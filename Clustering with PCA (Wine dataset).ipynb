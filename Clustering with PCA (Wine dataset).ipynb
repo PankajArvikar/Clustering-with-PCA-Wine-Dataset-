{
 "cells": [
  {
   "cell_type": "markdown",
   "id": "2ed76057",
   "metadata": {},
   "source": [
    "## Importing Libraries"
   ]
  },
  {
   "cell_type": "code",
   "execution_count": 1,
   "id": "014f8908",
   "metadata": {},
   "outputs": [],
   "source": [
    "import numpy as np\n",
    "import pandas as pd\n",
    "import matplotlib.pyplot as plt\n",
    "import seaborn as sns\n",
    "from sklearn.decomposition import PCA\n",
    "from sklearn.preprocessing import MinMaxScaler\n",
    "import scipy.cluster.hierarchy as sch\n",
    "from sklearn.cluster import AgglomerativeClustering, KMeans\n",
    "%matplotlib inline\n",
    "import warnings \n",
    "warnings.filterwarnings('ignore')"
   ]
  },
  {
   "cell_type": "markdown",
   "id": "d9c4ea60",
   "metadata": {},
   "source": [
    "##  Importing Dataset"
   ]
  },
  {
   "cell_type": "code",
   "execution_count": 2,
   "id": "6aba132e",
   "metadata": {
    "scrolled": false
   },
   "outputs": [
    {
     "data": {
      "text/html": [
       "<div>\n",
       "<style scoped>\n",
       "    .dataframe tbody tr th:only-of-type {\n",
       "        vertical-align: middle;\n",
       "    }\n",
       "\n",
       "    .dataframe tbody tr th {\n",
       "        vertical-align: top;\n",
       "    }\n",
       "\n",
       "    .dataframe thead th {\n",
       "        text-align: right;\n",
       "    }\n",
       "</style>\n",
       "<table border=\"1\" class=\"dataframe\">\n",
       "  <thead>\n",
       "    <tr style=\"text-align: right;\">\n",
       "      <th></th>\n",
       "      <th>Type</th>\n",
       "      <th>Alcohol</th>\n",
       "      <th>Malic</th>\n",
       "      <th>Ash</th>\n",
       "      <th>Alcalinity</th>\n",
       "      <th>Magnesium</th>\n",
       "      <th>Phenols</th>\n",
       "      <th>Flavanoids</th>\n",
       "      <th>Nonflavanoids</th>\n",
       "      <th>Proanthocyanins</th>\n",
       "      <th>Color</th>\n",
       "      <th>Hue</th>\n",
       "      <th>Dilution</th>\n",
       "      <th>Proline</th>\n",
       "    </tr>\n",
       "  </thead>\n",
       "  <tbody>\n",
       "    <tr>\n",
       "      <th>0</th>\n",
       "      <td>1</td>\n",
       "      <td>14.23</td>\n",
       "      <td>1.71</td>\n",
       "      <td>2.43</td>\n",
       "      <td>15.6</td>\n",
       "      <td>127</td>\n",
       "      <td>2.80</td>\n",
       "      <td>3.06</td>\n",
       "      <td>0.28</td>\n",
       "      <td>2.29</td>\n",
       "      <td>5.64</td>\n",
       "      <td>1.04</td>\n",
       "      <td>3.92</td>\n",
       "      <td>1065</td>\n",
       "    </tr>\n",
       "    <tr>\n",
       "      <th>1</th>\n",
       "      <td>1</td>\n",
       "      <td>13.20</td>\n",
       "      <td>1.78</td>\n",
       "      <td>2.14</td>\n",
       "      <td>11.2</td>\n",
       "      <td>100</td>\n",
       "      <td>2.65</td>\n",
       "      <td>2.76</td>\n",
       "      <td>0.26</td>\n",
       "      <td>1.28</td>\n",
       "      <td>4.38</td>\n",
       "      <td>1.05</td>\n",
       "      <td>3.40</td>\n",
       "      <td>1050</td>\n",
       "    </tr>\n",
       "    <tr>\n",
       "      <th>2</th>\n",
       "      <td>1</td>\n",
       "      <td>13.16</td>\n",
       "      <td>2.36</td>\n",
       "      <td>2.67</td>\n",
       "      <td>18.6</td>\n",
       "      <td>101</td>\n",
       "      <td>2.80</td>\n",
       "      <td>3.24</td>\n",
       "      <td>0.30</td>\n",
       "      <td>2.81</td>\n",
       "      <td>5.68</td>\n",
       "      <td>1.03</td>\n",
       "      <td>3.17</td>\n",
       "      <td>1185</td>\n",
       "    </tr>\n",
       "    <tr>\n",
       "      <th>3</th>\n",
       "      <td>1</td>\n",
       "      <td>14.37</td>\n",
       "      <td>1.95</td>\n",
       "      <td>2.50</td>\n",
       "      <td>16.8</td>\n",
       "      <td>113</td>\n",
       "      <td>3.85</td>\n",
       "      <td>3.49</td>\n",
       "      <td>0.24</td>\n",
       "      <td>2.18</td>\n",
       "      <td>7.80</td>\n",
       "      <td>0.86</td>\n",
       "      <td>3.45</td>\n",
       "      <td>1480</td>\n",
       "    </tr>\n",
       "    <tr>\n",
       "      <th>4</th>\n",
       "      <td>1</td>\n",
       "      <td>13.24</td>\n",
       "      <td>2.59</td>\n",
       "      <td>2.87</td>\n",
       "      <td>21.0</td>\n",
       "      <td>118</td>\n",
       "      <td>2.80</td>\n",
       "      <td>2.69</td>\n",
       "      <td>0.39</td>\n",
       "      <td>1.82</td>\n",
       "      <td>4.32</td>\n",
       "      <td>1.04</td>\n",
       "      <td>2.93</td>\n",
       "      <td>735</td>\n",
       "    </tr>\n",
       "  </tbody>\n",
       "</table>\n",
       "</div>"
      ],
      "text/plain": [
       "   Type  Alcohol  Malic   Ash  Alcalinity  Magnesium  Phenols  Flavanoids  \\\n",
       "0     1    14.23   1.71  2.43        15.6        127     2.80        3.06   \n",
       "1     1    13.20   1.78  2.14        11.2        100     2.65        2.76   \n",
       "2     1    13.16   2.36  2.67        18.6        101     2.80        3.24   \n",
       "3     1    14.37   1.95  2.50        16.8        113     3.85        3.49   \n",
       "4     1    13.24   2.59  2.87        21.0        118     2.80        2.69   \n",
       "\n",
       "   Nonflavanoids  Proanthocyanins  Color   Hue  Dilution  Proline  \n",
       "0           0.28             2.29   5.64  1.04      3.92     1065  \n",
       "1           0.26             1.28   4.38  1.05      3.40     1050  \n",
       "2           0.30             2.81   5.68  1.03      3.17     1185  \n",
       "3           0.24             2.18   7.80  0.86      3.45     1480  \n",
       "4           0.39             1.82   4.32  1.04      2.93      735  "
      ]
     },
     "execution_count": 2,
     "metadata": {},
     "output_type": "execute_result"
    }
   ],
   "source": [
    "wine = pd.read_csv('wine.csv')\n",
    "wine.head()"
   ]
  },
  {
   "cell_type": "markdown",
   "id": "77aa8ef2",
   "metadata": {},
   "source": [
    "### Insights of data "
   ]
  },
  {
   "cell_type": "code",
   "execution_count": 3,
   "id": "0ae30c9f",
   "metadata": {},
   "outputs": [
    {
     "name": "stdout",
     "output_type": "stream",
     "text": [
      "<class 'pandas.core.frame.DataFrame'>\n",
      "RangeIndex: 178 entries, 0 to 177\n",
      "Data columns (total 14 columns):\n",
      " #   Column           Non-Null Count  Dtype  \n",
      "---  ------           --------------  -----  \n",
      " 0   Type             178 non-null    int64  \n",
      " 1   Alcohol          178 non-null    float64\n",
      " 2   Malic            178 non-null    float64\n",
      " 3   Ash              178 non-null    float64\n",
      " 4   Alcalinity       178 non-null    float64\n",
      " 5   Magnesium        178 non-null    int64  \n",
      " 6   Phenols          178 non-null    float64\n",
      " 7   Flavanoids       178 non-null    float64\n",
      " 8   Nonflavanoids    178 non-null    float64\n",
      " 9   Proanthocyanins  178 non-null    float64\n",
      " 10  Color            178 non-null    float64\n",
      " 11  Hue              178 non-null    float64\n",
      " 12  Dilution         178 non-null    float64\n",
      " 13  Proline          178 non-null    int64  \n",
      "dtypes: float64(11), int64(3)\n",
      "memory usage: 19.6 KB\n"
     ]
    }
   ],
   "source": [
    "wine.info()"
   ]
  },
  {
   "cell_type": "code",
   "execution_count": 4,
   "id": "1bd97495",
   "metadata": {},
   "outputs": [
    {
     "data": {
      "text/html": [
       "<div>\n",
       "<style scoped>\n",
       "    .dataframe tbody tr th:only-of-type {\n",
       "        vertical-align: middle;\n",
       "    }\n",
       "\n",
       "    .dataframe tbody tr th {\n",
       "        vertical-align: top;\n",
       "    }\n",
       "\n",
       "    .dataframe thead th {\n",
       "        text-align: right;\n",
       "    }\n",
       "</style>\n",
       "<table border=\"1\" class=\"dataframe\">\n",
       "  <thead>\n",
       "    <tr style=\"text-align: right;\">\n",
       "      <th></th>\n",
       "      <th>Type</th>\n",
       "      <th>Alcohol</th>\n",
       "      <th>Malic</th>\n",
       "      <th>Ash</th>\n",
       "      <th>Alcalinity</th>\n",
       "      <th>Magnesium</th>\n",
       "      <th>Phenols</th>\n",
       "      <th>Flavanoids</th>\n",
       "      <th>Nonflavanoids</th>\n",
       "      <th>Proanthocyanins</th>\n",
       "      <th>Color</th>\n",
       "      <th>Hue</th>\n",
       "      <th>Dilution</th>\n",
       "      <th>Proline</th>\n",
       "    </tr>\n",
       "  </thead>\n",
       "  <tbody>\n",
       "    <tr>\n",
       "      <th>count</th>\n",
       "      <td>178.000000</td>\n",
       "      <td>178.000000</td>\n",
       "      <td>178.000000</td>\n",
       "      <td>178.000000</td>\n",
       "      <td>178.000000</td>\n",
       "      <td>178.000000</td>\n",
       "      <td>178.000000</td>\n",
       "      <td>178.000000</td>\n",
       "      <td>178.000000</td>\n",
       "      <td>178.000000</td>\n",
       "      <td>178.000000</td>\n",
       "      <td>178.000000</td>\n",
       "      <td>178.000000</td>\n",
       "      <td>178.000000</td>\n",
       "    </tr>\n",
       "    <tr>\n",
       "      <th>mean</th>\n",
       "      <td>1.938202</td>\n",
       "      <td>13.000618</td>\n",
       "      <td>2.336348</td>\n",
       "      <td>2.366517</td>\n",
       "      <td>19.494944</td>\n",
       "      <td>99.741573</td>\n",
       "      <td>2.295112</td>\n",
       "      <td>2.029270</td>\n",
       "      <td>0.361854</td>\n",
       "      <td>1.590899</td>\n",
       "      <td>5.058090</td>\n",
       "      <td>0.957449</td>\n",
       "      <td>2.611685</td>\n",
       "      <td>746.893258</td>\n",
       "    </tr>\n",
       "    <tr>\n",
       "      <th>std</th>\n",
       "      <td>0.775035</td>\n",
       "      <td>0.811827</td>\n",
       "      <td>1.117146</td>\n",
       "      <td>0.274344</td>\n",
       "      <td>3.339564</td>\n",
       "      <td>14.282484</td>\n",
       "      <td>0.625851</td>\n",
       "      <td>0.998859</td>\n",
       "      <td>0.124453</td>\n",
       "      <td>0.572359</td>\n",
       "      <td>2.318286</td>\n",
       "      <td>0.228572</td>\n",
       "      <td>0.709990</td>\n",
       "      <td>314.907474</td>\n",
       "    </tr>\n",
       "    <tr>\n",
       "      <th>min</th>\n",
       "      <td>1.000000</td>\n",
       "      <td>11.030000</td>\n",
       "      <td>0.740000</td>\n",
       "      <td>1.360000</td>\n",
       "      <td>10.600000</td>\n",
       "      <td>70.000000</td>\n",
       "      <td>0.980000</td>\n",
       "      <td>0.340000</td>\n",
       "      <td>0.130000</td>\n",
       "      <td>0.410000</td>\n",
       "      <td>1.280000</td>\n",
       "      <td>0.480000</td>\n",
       "      <td>1.270000</td>\n",
       "      <td>278.000000</td>\n",
       "    </tr>\n",
       "    <tr>\n",
       "      <th>25%</th>\n",
       "      <td>1.000000</td>\n",
       "      <td>12.362500</td>\n",
       "      <td>1.602500</td>\n",
       "      <td>2.210000</td>\n",
       "      <td>17.200000</td>\n",
       "      <td>88.000000</td>\n",
       "      <td>1.742500</td>\n",
       "      <td>1.205000</td>\n",
       "      <td>0.270000</td>\n",
       "      <td>1.250000</td>\n",
       "      <td>3.220000</td>\n",
       "      <td>0.782500</td>\n",
       "      <td>1.937500</td>\n",
       "      <td>500.500000</td>\n",
       "    </tr>\n",
       "    <tr>\n",
       "      <th>50%</th>\n",
       "      <td>2.000000</td>\n",
       "      <td>13.050000</td>\n",
       "      <td>1.865000</td>\n",
       "      <td>2.360000</td>\n",
       "      <td>19.500000</td>\n",
       "      <td>98.000000</td>\n",
       "      <td>2.355000</td>\n",
       "      <td>2.135000</td>\n",
       "      <td>0.340000</td>\n",
       "      <td>1.555000</td>\n",
       "      <td>4.690000</td>\n",
       "      <td>0.965000</td>\n",
       "      <td>2.780000</td>\n",
       "      <td>673.500000</td>\n",
       "    </tr>\n",
       "    <tr>\n",
       "      <th>75%</th>\n",
       "      <td>3.000000</td>\n",
       "      <td>13.677500</td>\n",
       "      <td>3.082500</td>\n",
       "      <td>2.557500</td>\n",
       "      <td>21.500000</td>\n",
       "      <td>107.000000</td>\n",
       "      <td>2.800000</td>\n",
       "      <td>2.875000</td>\n",
       "      <td>0.437500</td>\n",
       "      <td>1.950000</td>\n",
       "      <td>6.200000</td>\n",
       "      <td>1.120000</td>\n",
       "      <td>3.170000</td>\n",
       "      <td>985.000000</td>\n",
       "    </tr>\n",
       "    <tr>\n",
       "      <th>max</th>\n",
       "      <td>3.000000</td>\n",
       "      <td>14.830000</td>\n",
       "      <td>5.800000</td>\n",
       "      <td>3.230000</td>\n",
       "      <td>30.000000</td>\n",
       "      <td>162.000000</td>\n",
       "      <td>3.880000</td>\n",
       "      <td>5.080000</td>\n",
       "      <td>0.660000</td>\n",
       "      <td>3.580000</td>\n",
       "      <td>13.000000</td>\n",
       "      <td>1.710000</td>\n",
       "      <td>4.000000</td>\n",
       "      <td>1680.000000</td>\n",
       "    </tr>\n",
       "  </tbody>\n",
       "</table>\n",
       "</div>"
      ],
      "text/plain": [
       "             Type     Alcohol       Malic         Ash  Alcalinity   Magnesium  \\\n",
       "count  178.000000  178.000000  178.000000  178.000000  178.000000  178.000000   \n",
       "mean     1.938202   13.000618    2.336348    2.366517   19.494944   99.741573   \n",
       "std      0.775035    0.811827    1.117146    0.274344    3.339564   14.282484   \n",
       "min      1.000000   11.030000    0.740000    1.360000   10.600000   70.000000   \n",
       "25%      1.000000   12.362500    1.602500    2.210000   17.200000   88.000000   \n",
       "50%      2.000000   13.050000    1.865000    2.360000   19.500000   98.000000   \n",
       "75%      3.000000   13.677500    3.082500    2.557500   21.500000  107.000000   \n",
       "max      3.000000   14.830000    5.800000    3.230000   30.000000  162.000000   \n",
       "\n",
       "          Phenols  Flavanoids  Nonflavanoids  Proanthocyanins       Color  \\\n",
       "count  178.000000  178.000000     178.000000       178.000000  178.000000   \n",
       "mean     2.295112    2.029270       0.361854         1.590899    5.058090   \n",
       "std      0.625851    0.998859       0.124453         0.572359    2.318286   \n",
       "min      0.980000    0.340000       0.130000         0.410000    1.280000   \n",
       "25%      1.742500    1.205000       0.270000         1.250000    3.220000   \n",
       "50%      2.355000    2.135000       0.340000         1.555000    4.690000   \n",
       "75%      2.800000    2.875000       0.437500         1.950000    6.200000   \n",
       "max      3.880000    5.080000       0.660000         3.580000   13.000000   \n",
       "\n",
       "              Hue    Dilution      Proline  \n",
       "count  178.000000  178.000000   178.000000  \n",
       "mean     0.957449    2.611685   746.893258  \n",
       "std      0.228572    0.709990   314.907474  \n",
       "min      0.480000    1.270000   278.000000  \n",
       "25%      0.782500    1.937500   500.500000  \n",
       "50%      0.965000    2.780000   673.500000  \n",
       "75%      1.120000    3.170000   985.000000  \n",
       "max      1.710000    4.000000  1680.000000  "
      ]
     },
     "execution_count": 4,
     "metadata": {},
     "output_type": "execute_result"
    }
   ],
   "source": [
    "wine.describe()"
   ]
  },
  {
   "cell_type": "code",
   "execution_count": 5,
   "id": "53258f43",
   "metadata": {},
   "outputs": [
    {
     "data": {
      "text/plain": [
       "Type               0\n",
       "Alcohol            0\n",
       "Malic              0\n",
       "Ash                0\n",
       "Alcalinity         0\n",
       "Magnesium          0\n",
       "Phenols            0\n",
       "Flavanoids         0\n",
       "Nonflavanoids      0\n",
       "Proanthocyanins    0\n",
       "Color              0\n",
       "Hue                0\n",
       "Dilution           0\n",
       "Proline            0\n",
       "dtype: int64"
      ]
     },
     "execution_count": 5,
     "metadata": {},
     "output_type": "execute_result"
    }
   ],
   "source": [
    "wine.isnull().sum()"
   ]
  },
  {
   "cell_type": "code",
   "execution_count": 6,
   "id": "d62da305",
   "metadata": {},
   "outputs": [
    {
     "data": {
      "image/png": "[encoded data removed]",
      "text/plain": [
       "<Figure size 432x288 with 2 Axes>"
      ]
     },
     "metadata": {
      "needs_background": "light"
     },
     "output_type": "display_data"
    }
   ],
   "source": [
    "sns.heatmap(wine.isnull())\n",
    "plt.show()"
   ]
  },
  {
   "cell_type": "markdown",
   "id": "f4cc9b58",
   "metadata": {},
   "source": [
    "* There is no null values in this dataset."
   ]
  },
  {
   "cell_type": "markdown",
   "id": "10cc2980",
   "metadata": {},
   "source": [
    "## EDA"
   ]
  },
  {
   "cell_type": "markdown",
   "id": "f186a86a",
   "metadata": {},
   "source": [
    "* Removing unnecessary column 'Type' from the dataset."
   ]
  },
  {
   "cell_type": "code",
   "execution_count": 7,
   "id": "164d42ec",
   "metadata": {},
   "outputs": [
    {
     "data": {
      "text/html": [
       "<div>\n",
       "<style scoped>\n",
       "    .dataframe tbody tr th:only-of-type {\n",
       "        vertical-align: middle;\n",
       "    }\n",
       "\n",
       "    .dataframe tbody tr th {\n",
       "        vertical-align: top;\n",
       "    }\n",
       "\n",
       "    .dataframe thead th {\n",
       "        text-align: right;\n",
       "    }\n",
       "</style>\n",
       "<table border=\"1\" class=\"dataframe\">\n",
       "  <thead>\n",
       "    <tr style=\"text-align: right;\">\n",
       "      <th></th>\n",
       "      <th>Alcohol</th>\n",
       "      <th>Malic</th>\n",
       "      <th>Ash</th>\n",
       "      <th>Alcalinity</th>\n",
       "      <th>Magnesium</th>\n",
       "      <th>Phenols</th>\n",
       "      <th>Flavanoids</th>\n",
       "      <th>Nonflavanoids</th>\n",
       "      <th>Proanthocyanins</th>\n",
       "      <th>Color</th>\n",
       "      <th>Hue</th>\n",
       "      <th>Dilution</th>\n",
       "      <th>Proline</th>\n",
       "    </tr>\n",
       "  </thead>\n",
       "  <tbody>\n",
       "    <tr>\n",
       "      <th>0</th>\n",
       "      <td>14.23</td>\n",
       "      <td>1.71</td>\n",
       "      <td>2.43</td>\n",
       "      <td>15.6</td>\n",
       "      <td>127</td>\n",
       "      <td>2.80</td>\n",
       "      <td>3.06</td>\n",
       "      <td>0.28</td>\n",
       "      <td>2.29</td>\n",
       "      <td>5.64</td>\n",
       "      <td>1.04</td>\n",
       "      <td>3.92</td>\n",
       "      <td>1065</td>\n",
       "    </tr>\n",
       "    <tr>\n",
       "      <th>1</th>\n",
       "      <td>13.20</td>\n",
       "      <td>1.78</td>\n",
       "      <td>2.14</td>\n",
       "      <td>11.2</td>\n",
       "      <td>100</td>\n",
       "      <td>2.65</td>\n",
       "      <td>2.76</td>\n",
       "      <td>0.26</td>\n",
       "      <td>1.28</td>\n",
       "      <td>4.38</td>\n",
       "      <td>1.05</td>\n",
       "      <td>3.40</td>\n",
       "      <td>1050</td>\n",
       "    </tr>\n",
       "    <tr>\n",
       "      <th>2</th>\n",
       "      <td>13.16</td>\n",
       "      <td>2.36</td>\n",
       "      <td>2.67</td>\n",
       "      <td>18.6</td>\n",
       "      <td>101</td>\n",
       "      <td>2.80</td>\n",
       "      <td>3.24</td>\n",
       "      <td>0.30</td>\n",
       "      <td>2.81</td>\n",
       "      <td>5.68</td>\n",
       "      <td>1.03</td>\n",
       "      <td>3.17</td>\n",
       "      <td>1185</td>\n",
       "    </tr>\n",
       "    <tr>\n",
       "      <th>3</th>\n",
       "      <td>14.37</td>\n",
       "      <td>1.95</td>\n",
       "      <td>2.50</td>\n",
       "      <td>16.8</td>\n",
       "      <td>113</td>\n",
       "      <td>3.85</td>\n",
       "      <td>3.49</td>\n",
       "      <td>0.24</td>\n",
       "      <td>2.18</td>\n",
       "      <td>7.80</td>\n",
       "      <td>0.86</td>\n",
       "      <td>3.45</td>\n",
       "      <td>1480</td>\n",
       "    </tr>\n",
       "    <tr>\n",
       "      <th>4</th>\n",
       "      <td>13.24</td>\n",
       "      <td>2.59</td>\n",
       "      <td>2.87</td>\n",
       "      <td>21.0</td>\n",
       "      <td>118</td>\n",
       "      <td>2.80</td>\n",
       "      <td>2.69</td>\n",
       "      <td>0.39</td>\n",
       "      <td>1.82</td>\n",
       "      <td>4.32</td>\n",
       "      <td>1.04</td>\n",
       "      <td>2.93</td>\n",
       "      <td>735</td>\n",
       "    </tr>\n",
       "  </tbody>\n",
       "</table>\n",
       "</div>"
      ],
      "text/plain": [
       "   Alcohol  Malic   Ash  Alcalinity  Magnesium  Phenols  Flavanoids  \\\n",
       "0    14.23   1.71  2.43        15.6        127     2.80        3.06   \n",
       "1    13.20   1.78  2.14        11.2        100     2.65        2.76   \n",
       "2    13.16   2.36  2.67        18.6        101     2.80        3.24   \n",
       "3    14.37   1.95  2.50        16.8        113     3.85        3.49   \n",
       "4    13.24   2.59  2.87        21.0        118     2.80        2.69   \n",
       "\n",
       "   Nonflavanoids  Proanthocyanins  Color   Hue  Dilution  Proline  \n",
       "0           0.28             2.29   5.64  1.04      3.92     1065  \n",
       "1           0.26             1.28   4.38  1.05      3.40     1050  \n",
       "2           0.30             2.81   5.68  1.03      3.17     1185  \n",
       "3           0.24             2.18   7.80  0.86      3.45     1480  \n",
       "4           0.39             1.82   4.32  1.04      2.93      735  "
      ]
     },
     "execution_count": 7,
     "metadata": {},
     "output_type": "execute_result"
    }
   ],
   "source": [
    "wine.drop(wine.columns[0],axis=1, inplace=True)\n",
    "wine.head()"
   ]
  },
  {
   "cell_type": "code",
   "execution_count": 8,
   "id": "872697ee",
   "metadata": {
    "scrolled": true
   },
   "outputs": [
    {
     "data": {
      "image/png": "[encoded data removed]",
      "text/plain": [
       "<Figure size 1440x504 with 13 Axes>"
      ]
     },
     "metadata": {
      "needs_background": "light"
     },
     "output_type": "display_data"
    }
   ],
   "source": [
    "wine.plot(kind='box', subplots=True, figsize=(20,7))\n",
    "plt.tight_layout()"
   ]
  },
  {
   "cell_type": "markdown",
   "id": "07b8cdff",
   "metadata": {},
   "source": [
    "##### More number of outliers observed in the dataset. Eliminate the outliers for better accuracy or prediction of model."
   ]
  },
  {
   "cell_type": "code",
   "execution_count": 9,
   "id": "4d18f679",
   "metadata": {},
   "outputs": [],
   "source": [
    "wine.drop(wine.index[wine['Malic']>5], inplace=True)\n",
    "wine.drop(wine.index[wine['Ash']>3], inplace=True)\n",
    "wine.drop(wine.index[wine['Ash']<1.8], inplace=True)\n",
    "wine.drop(wine.index[wine['Alcalinity']>25], inplace=True)\n",
    "wine.drop(wine.index[wine['Alcalinity']<11], inplace=True)\n",
    "wine.drop(wine.index[wine['Magnesium']>132], inplace=True)\n",
    "wine.drop(wine.index[wine['Proanthocyanins']>3], inplace=True)\n",
    "wine.drop(wine.index[wine['Color']>10.5], inplace=True)\n",
    "wine.drop(wine.index[wine['Hue']>1.6], inplace=True)"
   ]
  },
  {
   "cell_type": "code",
   "execution_count": 10,
   "id": "303a1b4f",
   "metadata": {
    "scrolled": true
   },
   "outputs": [
    {
     "data": {
      "image/png": "[encoded data removed]",
      "text/plain": [
       "<Figure size 1440x504 with 13 Axes>"
      ]
     },
     "metadata": {
      "needs_background": "light"
     },
     "output_type": "display_data"
    }
   ],
   "source": [
    "wine.plot(kind='box', subplots=True, figsize=(20,7))\n",
    "plt.tight_layout()"
   ]
  },
  {
   "cell_type": "markdown",
   "id": "0c416bf6",
   "metadata": {},
   "source": [
    "* No outliers found in the dataset"
   ]
  },
  {
   "cell_type": "markdown",
   "id": "0e256079",
   "metadata": {},
   "source": [
    "### Standardizing Dataset "
   ]
  },
  {
   "cell_type": "code",
   "execution_count": 11,
   "id": "bae9d3db",
   "metadata": {},
   "outputs": [
    {
     "data": {
      "text/html": [
       "<div>\n",
       "<style scoped>\n",
       "    .dataframe tbody tr th:only-of-type {\n",
       "        vertical-align: middle;\n",
       "    }\n",
       "\n",
       "    .dataframe tbody tr th {\n",
       "        vertical-align: top;\n",
       "    }\n",
       "\n",
       "    .dataframe thead th {\n",
       "        text-align: right;\n",
       "    }\n",
       "</style>\n",
       "<table border=\"1\" class=\"dataframe\">\n",
       "  <thead>\n",
       "    <tr style=\"text-align: right;\">\n",
       "      <th></th>\n",
       "      <th>Alcohol</th>\n",
       "      <th>Malic</th>\n",
       "      <th>Ash</th>\n",
       "      <th>Alcalinity</th>\n",
       "      <th>Magnesium</th>\n",
       "      <th>Phenols</th>\n",
       "      <th>Flavanoids</th>\n",
       "      <th>Nonflavanoids</th>\n",
       "      <th>Proanthocyanins</th>\n",
       "      <th>Color</th>\n",
       "      <th>Hue</th>\n",
       "      <th>Dilution</th>\n",
       "      <th>Proline</th>\n",
       "    </tr>\n",
       "  </thead>\n",
       "  <tbody>\n",
       "    <tr>\n",
       "      <th>0</th>\n",
       "      <td>0.824561</td>\n",
       "      <td>0.230404</td>\n",
       "      <td>0.528846</td>\n",
       "      <td>0.318841</td>\n",
       "      <td>0.919355</td>\n",
       "      <td>0.611511</td>\n",
       "      <td>0.748555</td>\n",
       "      <td>0.283019</td>\n",
       "      <td>0.737255</td>\n",
       "      <td>0.485523</td>\n",
       "      <td>0.549451</td>\n",
       "      <td>0.970696</td>\n",
       "      <td>0.561341</td>\n",
       "    </tr>\n",
       "    <tr>\n",
       "      <th>1</th>\n",
       "      <td>0.523392</td>\n",
       "      <td>0.247031</td>\n",
       "      <td>0.250000</td>\n",
       "      <td>0.000000</td>\n",
       "      <td>0.483871</td>\n",
       "      <td>0.557554</td>\n",
       "      <td>0.661850</td>\n",
       "      <td>0.245283</td>\n",
       "      <td>0.341176</td>\n",
       "      <td>0.345212</td>\n",
       "      <td>0.560440</td>\n",
       "      <td>0.780220</td>\n",
       "      <td>0.550642</td>\n",
       "    </tr>\n",
       "    <tr>\n",
       "      <th>2</th>\n",
       "      <td>0.511696</td>\n",
       "      <td>0.384798</td>\n",
       "      <td>0.759615</td>\n",
       "      <td>0.536232</td>\n",
       "      <td>0.500000</td>\n",
       "      <td>0.611511</td>\n",
       "      <td>0.800578</td>\n",
       "      <td>0.320755</td>\n",
       "      <td>0.941176</td>\n",
       "      <td>0.489978</td>\n",
       "      <td>0.538462</td>\n",
       "      <td>0.695971</td>\n",
       "      <td>0.646933</td>\n",
       "    </tr>\n",
       "    <tr>\n",
       "      <th>3</th>\n",
       "      <td>0.865497</td>\n",
       "      <td>0.287411</td>\n",
       "      <td>0.596154</td>\n",
       "      <td>0.405797</td>\n",
       "      <td>0.693548</td>\n",
       "      <td>0.989209</td>\n",
       "      <td>0.872832</td>\n",
       "      <td>0.207547</td>\n",
       "      <td>0.694118</td>\n",
       "      <td>0.726058</td>\n",
       "      <td>0.351648</td>\n",
       "      <td>0.798535</td>\n",
       "      <td>0.857347</td>\n",
       "    </tr>\n",
       "    <tr>\n",
       "      <th>4</th>\n",
       "      <td>0.535088</td>\n",
       "      <td>0.439430</td>\n",
       "      <td>0.951923</td>\n",
       "      <td>0.710145</td>\n",
       "      <td>0.774194</td>\n",
       "      <td>0.611511</td>\n",
       "      <td>0.641618</td>\n",
       "      <td>0.490566</td>\n",
       "      <td>0.552941</td>\n",
       "      <td>0.338530</td>\n",
       "      <td>0.549451</td>\n",
       "      <td>0.608059</td>\n",
       "      <td>0.325963</td>\n",
       "    </tr>\n",
       "  </tbody>\n",
       "</table>\n",
       "</div>"
      ],
      "text/plain": [
       "    Alcohol     Malic       Ash  Alcalinity  Magnesium   Phenols  Flavanoids  \\\n",
       "0  0.824561  0.230404  0.528846    0.318841   0.919355  0.611511    0.748555   \n",
       "1  0.523392  0.247031  0.250000    0.000000   0.483871  0.557554    0.661850   \n",
       "2  0.511696  0.384798  0.759615    0.536232   0.500000  0.611511    0.800578   \n",
       "3  0.865497  0.287411  0.596154    0.405797   0.693548  0.989209    0.872832   \n",
       "4  0.535088  0.439430  0.951923    0.710145   0.774194  0.611511    0.641618   \n",
       "\n",
       "   Nonflavanoids  Proanthocyanins     Color       Hue  Dilution   Proline  \n",
       "0       0.283019         0.737255  0.485523  0.549451  0.970696  0.561341  \n",
       "1       0.245283         0.341176  0.345212  0.560440  0.780220  0.550642  \n",
       "2       0.320755         0.941176  0.489978  0.538462  0.695971  0.646933  \n",
       "3       0.207547         0.694118  0.726058  0.351648  0.798535  0.857347  \n",
       "4       0.490566         0.552941  0.338530  0.549451  0.608059  0.325963  "
      ]
     },
     "execution_count": 11,
     "metadata": {},
     "output_type": "execute_result"
    }
   ],
   "source": [
    "scale = MinMaxScaler()\n",
    "wine_std = scale.fit_transform(wine)\n",
    "wine_std = pd.DataFrame(wine_std, columns=wine.columns)\n",
    "wine_std.head()"
   ]
  },
  {
   "cell_type": "code",
   "execution_count": 12,
   "id": "c271632e",
   "metadata": {},
   "outputs": [
    {
     "data": {
      "text/plain": [
       "(150, 13)"
      ]
     },
     "execution_count": 12,
     "metadata": {},
     "output_type": "execute_result"
    }
   ],
   "source": [
    "wine_std.shape"
   ]
  },
  {
   "cell_type": "markdown",
   "id": "b29c43e6",
   "metadata": {},
   "source": [
    "## Applying PCA to reduce dimensions"
   ]
  },
  {
   "cell_type": "code",
   "execution_count": 13,
   "id": "8852e5fc",
   "metadata": {},
   "outputs": [],
   "source": [
    "pca = PCA(random_state=40)\n",
    "pca_values = pca.fit_transform(wine_std)"
   ]
  },
  {
   "cell_type": "code",
   "execution_count": 14,
   "id": "ba1414a0",
   "metadata": {},
   "outputs": [
    {
     "data": {
      "text/plain": [
       "array([0.42373451, 0.20143299, 0.07639431, 0.07294556, 0.0459064 ,\n",
       "       0.04035753, 0.03192086, 0.02619894, 0.02349618, 0.02060073,\n",
       "       0.0156154 , 0.01384405, 0.00755253])"
      ]
     },
     "execution_count": 14,
     "metadata": {},
     "output_type": "execute_result"
    }
   ],
   "source": [
    "var = pca.explained_variance_ratio_\n",
    "var"
   ]
  },
  {
   "cell_type": "markdown",
   "id": "7dfdbe0b",
   "metadata": {},
   "source": [
    "* First 3 principal components have more contribution i.e about 77.5%. So we are considering first 3 components for the building model. "
   ]
  },
  {
   "cell_type": "code",
   "execution_count": 15,
   "id": "35b5f6bb",
   "metadata": {},
   "outputs": [
    {
     "data": {
      "text/plain": [
       "array([[ 0.7905377 , -0.27753497, -0.00706482],\n",
       "       [ 0.50638651,  0.08290956, -0.42419171],\n",
       "       [ 0.60192055, -0.17652653,  0.28639811],\n",
       "       [ 0.91206754, -0.57646827,  0.00737605],\n",
       "       [ 0.2391209 , -0.16320212,  0.53664392],\n",
       "       [ 0.73895858, -0.45135897, -0.13963296],\n",
       "       [ 0.58262507, -0.23294214, -0.13680135],\n",
       "       [ 0.49061608, -0.34277237,  0.10545525],\n",
       "       [ 0.59608957, -0.186202  , -0.37210999],\n",
       "       [ 0.66896203, -0.14245882, -0.2190603 ],\n",
       "       [ 0.82155117, -0.24513503, -0.07119342],\n",
       "       [ 0.40120276, -0.1213991 , -0.2557804 ],\n",
       "       [ 0.49897035, -0.12640167, -0.1661767 ],\n",
       "       [ 0.84988402, -0.20706898, -0.24430293],\n",
       "       [ 1.03562504, -0.4356733 , -0.26443672],\n",
       "       [ 0.5605347 , -0.36654233,  0.06370766],\n",
       "       [ 0.53275119, -0.49611476,  0.21299529],\n",
       "       [ 0.47999433, -0.33349746,  0.14246579],\n",
       "       [ 0.88851969, -0.53936532, -0.14268565],\n",
       "       [ 0.49988849, -0.2482707 ,  0.12667263],\n",
       "       [ 0.7388135 , -0.13616995, -0.07849708],\n",
       "       [ 0.24361779, -0.05039531,  0.40291262],\n",
       "       [ 0.60582188,  0.07932224, -0.00707168],\n",
       "       [ 0.37267928,  0.16554541,  0.07631603],\n",
       "       [ 0.42287479,  0.13972062,  0.27784658],\n",
       "       [ 0.43899152, -0.11625616,  0.04628997],\n",
       "       [ 0.24656262,  0.03589218, -0.31586627],\n",
       "       [ 0.54184486, -0.09411369,  0.37484894],\n",
       "       [ 0.50837295, -0.00233879, -0.21017349],\n",
       "       [ 0.60209633, -0.20607699,  0.30402303],\n",
       "       [ 0.63305711, -0.29867991, -0.09721728],\n",
       "       [ 0.37199005,  0.02743456, -0.04676124],\n",
       "       [ 0.4555109 , -0.32811507,  0.21108326],\n",
       "       [ 0.32303101, -0.1307001 ,  0.14925187],\n",
       "       [ 0.45777298,  0.01571622,  0.12756547],\n",
       "       [ 0.33341064, -0.13492216,  0.15966849],\n",
       "       [ 0.24096643, -0.00641257,  0.00605634],\n",
       "       [ 0.32116428,  0.19095789, -0.35590312],\n",
       "       [ 0.59913859, -0.42969231,  0.14624848],\n",
       "       [ 0.61605304, -0.13136896, -0.04342197],\n",
       "       [ 0.14505243, -0.04946363, -0.03619391],\n",
       "       [ 0.76188977, -0.21943391,  0.04272029],\n",
       "       [ 0.09434612, -0.09444675,  0.1115141 ],\n",
       "       [ 0.47511448,  0.05934074, -0.16860988],\n",
       "       [ 0.27732562, -0.41903324,  0.1944212 ],\n",
       "       [ 0.64984973, -0.24899438,  0.03504734],\n",
       "       [ 0.6734535 , -0.10618966, -0.25012537],\n",
       "       [ 0.47369582, -0.25097801,  0.00108498],\n",
       "       [ 0.67479459, -0.37532012, -0.18930276],\n",
       "       [ 0.73639785, -0.01895298, -0.46564691],\n",
       "       [ 0.68864217, -0.11682446,  0.05777094],\n",
       "       [ 0.85796821, -0.32463281, -0.1092923 ],\n",
       "       [ 0.53172924, -0.39936166,  0.09162481],\n",
       "       [ 0.49909487, -0.21813328, -0.20924719],\n",
       "       [ 0.55757735, -0.25539005,  0.11341435],\n",
       "       [ 0.64499426, -0.29488953, -0.12823552],\n",
       "       [ 0.53378864, -0.24711846,  0.10346982],\n",
       "       [ 0.76162599, -0.35084468, -0.05213501],\n",
       "       [-0.44138369,  0.28555558, -0.33416691],\n",
       "       [-0.49602655,  0.13119193, -0.495971  ],\n",
       "       [-0.04343475,  0.27829983, -0.47143084],\n",
       "       [ 0.45292003,  0.50048504, -0.0641514 ],\n",
       "       [-0.1947715 ,  0.4355974 ,  0.08906545],\n",
       "       [ 0.18673595,  0.20820096,  0.07230413],\n",
       "       [ 0.0071434 ,  0.57934362, -0.3072494 ],\n",
       "       [-0.25530658,  0.04010175, -0.25271858],\n",
       "       [-0.47249392,  0.17812222, -0.20845975],\n",
       "       [ 0.40078553,  0.30674579,  0.48986114],\n",
       "       [-0.19912498,  0.25951547,  0.02688217],\n",
       "       [ 0.34911997,  0.36244663,  0.05807982],\n",
       "       [-0.29456391,  0.51423098, -0.43623942],\n",
       "       [-0.42668321,  0.27539961, -0.0341049 ],\n",
       "       [ 0.06161718,  0.27151658,  0.5030176 ],\n",
       "       [ 0.12367711,  0.82160965, -0.18291173],\n",
       "       [ 0.21904354,  0.3655388 , -0.07724386],\n",
       "       [-0.1715117 ,  0.60465101,  0.24488451],\n",
       "       [-0.62819992, -0.01880263,  0.17815378],\n",
       "       [ 0.14539323,  0.39406035,  0.1400135 ],\n",
       "       [ 0.13125517,  0.50193127, -0.10761515],\n",
       "       [-0.2561747 ,  0.53777741,  0.09805513],\n",
       "       [-0.31161233,  0.43957377,  0.20487175],\n",
       "       [-0.18463118,  0.68032756,  0.15517742],\n",
       "       [-0.38025605,  0.49149507, -0.0425049 ],\n",
       "       [-0.42733631,  0.44307742,  0.11888417],\n",
       "       [-0.50498096,  0.365384  , -0.08584824],\n",
       "       [ 0.12302712,  0.55492172,  0.1125015 ],\n",
       "       [ 0.15840802,  0.52554606,  0.04221422],\n",
       "       [ 0.18896101,  0.61585255, -0.30181032],\n",
       "       [ 0.52568922,  0.39815205, -0.13219899],\n",
       "       [ 0.29594899,  0.54742213,  0.1961265 ],\n",
       "       [-0.21379939,  0.52687064, -0.39173121],\n",
       "       [-0.06950898,  0.29844161,  0.29859834],\n",
       "       [-0.25282194,  0.63064933, -0.24804433],\n",
       "       [ 0.04032425,  0.52573236, -0.13301633],\n",
       "       [-0.43423456,  0.42218072,  0.21276254],\n",
       "       [-0.12174526,  0.51972838, -0.12501261],\n",
       "       [-0.41730785,  0.32631522,  0.03349364],\n",
       "       [-0.04962533,  0.57477957, -0.18768422],\n",
       "       [ 0.34731133,  0.42685499,  0.40853421],\n",
       "       [-0.11144237,  0.46056681,  0.07042634],\n",
       "       [-0.3133774 ,  0.1686599 ,  0.48403547],\n",
       "       [-0.16320054,  0.56527727,  0.13294316],\n",
       "       [-0.12746879,  0.50198582,  0.28219358],\n",
       "       [-0.14050748,  0.68814317, -0.1153727 ],\n",
       "       [-0.08223936,  0.48203882,  0.10332299],\n",
       "       [-0.63728154,  0.21020716, -0.33442258],\n",
       "       [-0.21540825,  0.51557608, -0.00512021],\n",
       "       [ 0.14650633,  0.3752249 ,  0.29112404],\n",
       "       [ 0.20675792,  0.37932128,  0.54195747],\n",
       "       [-0.0408195 ,  0.5275212 ,  0.10838367],\n",
       "       [ 0.01601087,  0.34689973,  0.12935676],\n",
       "       [-0.14386498,  0.51002027,  0.25817318],\n",
       "       [-0.47007848,  0.24311999,  0.33416301],\n",
       "       [-0.40929847, -0.10621174, -0.30508021],\n",
       "       [-0.62849016, -0.1850292 , -0.081966  ],\n",
       "       [-0.75672843, -0.13516154, -0.01906021],\n",
       "       [-0.59309743, -0.18446718,  0.00265154],\n",
       "       [-0.65101175,  0.06699784, -0.35422635],\n",
       "       [-0.79386829, -0.16390639, -0.30697897],\n",
       "       [-1.01030987, -0.14273971,  0.20643822],\n",
       "       [-0.79896606, -0.16937822, -0.16930825],\n",
       "       [-0.63215481, -0.10020904,  0.31802376],\n",
       "       [-0.71112257, -0.11571621,  0.22055809],\n",
       "       [-0.60132243, -0.14955214, -0.14445831],\n",
       "       [-0.75402017, -0.16883875,  0.32232532],\n",
       "       [-0.62593309, -0.19943955,  0.13824071],\n",
       "       [-0.61025892, -0.39166267, -0.20906209],\n",
       "       [-0.72456854, -0.20262345, -0.12445048],\n",
       "       [-0.89489068, -0.40630895,  0.14040554],\n",
       "       [-0.72073143, -0.4489883 , -0.05156907],\n",
       "       [-0.72508993, -0.60102076, -0.03709096],\n",
       "       [-0.58234345, -0.64357209,  0.17337827],\n",
       "       [-0.73823533, -0.15604313, -0.41279098],\n",
       "       [-0.7251192 , -0.55493938, -0.04780727],\n",
       "       [-0.80513958, -0.2621231 ,  0.04966471],\n",
       "       [-0.59420031, -0.35093067,  0.0490266 ],\n",
       "       [-0.73303106, -0.18860647,  0.224493  ],\n",
       "       [-0.69378945, -0.25961148, -0.11066404],\n",
       "       [-0.73903253, -0.45908385, -0.19891678],\n",
       "       [-0.89342588, -0.30687907,  0.01358533],\n",
       "       [-0.74467629, -0.41867941, -0.22684357],\n",
       "       [-0.56092337, -0.53691768,  0.20480394],\n",
       "       [-0.60353898, -0.69553826,  0.5240458 ],\n",
       "       [-0.84459614, -0.0417937 , -0.13741136],\n",
       "       [-0.91767338, -0.31272235, -0.3198049 ],\n",
       "       [-0.61745629, -0.59463679, -0.16305795],\n",
       "       [-0.68270298, -0.49053705,  0.14180505],\n",
       "       [-0.70547888, -0.77525494, -0.14869025],\n",
       "       [-0.6353531 , -0.6182121 , -0.17034028],\n",
       "       [-0.78215015, -0.72370427,  0.35784509]])"
      ]
     },
     "execution_count": 15,
     "metadata": {},
     "output_type": "execute_result"
    }
   ],
   "source": [
    "pca_values[:,:3]"
   ]
  },
  {
   "cell_type": "markdown",
   "id": "3bffc843",
   "metadata": {},
   "source": [
    "### Creating dataset using PCA (first 3 components)"
   ]
  },
  {
   "cell_type": "code",
   "execution_count": 16,
   "id": "0878ee60",
   "metadata": {},
   "outputs": [
    {
     "data": {
      "text/html": [
       "<div>\n",
       "<style scoped>\n",
       "    .dataframe tbody tr th:only-of-type {\n",
       "        vertical-align: middle;\n",
       "    }\n",
       "\n",
       "    .dataframe tbody tr th {\n",
       "        vertical-align: top;\n",
       "    }\n",
       "\n",
       "    .dataframe thead th {\n",
       "        text-align: right;\n",
       "    }\n",
       "</style>\n",
       "<table border=\"1\" class=\"dataframe\">\n",
       "  <thead>\n",
       "    <tr style=\"text-align: right;\">\n",
       "      <th></th>\n",
       "      <th>PC1</th>\n",
       "      <th>PC2</th>\n",
       "      <th>PC3</th>\n",
       "    </tr>\n",
       "  </thead>\n",
       "  <tbody>\n",
       "    <tr>\n",
       "      <th>0</th>\n",
       "      <td>0.790538</td>\n",
       "      <td>-0.277535</td>\n",
       "      <td>-0.007065</td>\n",
       "    </tr>\n",
       "    <tr>\n",
       "      <th>1</th>\n",
       "      <td>0.506387</td>\n",
       "      <td>0.082910</td>\n",
       "      <td>-0.424192</td>\n",
       "    </tr>\n",
       "    <tr>\n",
       "      <th>2</th>\n",
       "      <td>0.601921</td>\n",
       "      <td>-0.176527</td>\n",
       "      <td>0.286398</td>\n",
       "    </tr>\n",
       "    <tr>\n",
       "      <th>3</th>\n",
       "      <td>0.912068</td>\n",
       "      <td>-0.576468</td>\n",
       "      <td>0.007376</td>\n",
       "    </tr>\n",
       "    <tr>\n",
       "      <th>4</th>\n",
       "      <td>0.239121</td>\n",
       "      <td>-0.163202</td>\n",
       "      <td>0.536644</td>\n",
       "    </tr>\n",
       "    <tr>\n",
       "      <th>5</th>\n",
       "      <td>0.738959</td>\n",
       "      <td>-0.451359</td>\n",
       "      <td>-0.139633</td>\n",
       "    </tr>\n",
       "    <tr>\n",
       "      <th>6</th>\n",
       "      <td>0.582625</td>\n",
       "      <td>-0.232942</td>\n",
       "      <td>-0.136801</td>\n",
       "    </tr>\n",
       "    <tr>\n",
       "      <th>7</th>\n",
       "      <td>0.490616</td>\n",
       "      <td>-0.342772</td>\n",
       "      <td>0.105455</td>\n",
       "    </tr>\n",
       "    <tr>\n",
       "      <th>8</th>\n",
       "      <td>0.596090</td>\n",
       "      <td>-0.186202</td>\n",
       "      <td>-0.372110</td>\n",
       "    </tr>\n",
       "    <tr>\n",
       "      <th>9</th>\n",
       "      <td>0.668962</td>\n",
       "      <td>-0.142459</td>\n",
       "      <td>-0.219060</td>\n",
       "    </tr>\n",
       "  </tbody>\n",
       "</table>\n",
       "</div>"
      ],
      "text/plain": [
       "        PC1       PC2       PC3\n",
       "0  0.790538 -0.277535 -0.007065\n",
       "1  0.506387  0.082910 -0.424192\n",
       "2  0.601921 -0.176527  0.286398\n",
       "3  0.912068 -0.576468  0.007376\n",
       "4  0.239121 -0.163202  0.536644\n",
       "5  0.738959 -0.451359 -0.139633\n",
       "6  0.582625 -0.232942 -0.136801\n",
       "7  0.490616 -0.342772  0.105455\n",
       "8  0.596090 -0.186202 -0.372110\n",
       "9  0.668962 -0.142459 -0.219060"
      ]
     },
     "execution_count": 16,
     "metadata": {},
     "output_type": "execute_result"
    }
   ],
   "source": [
    "wine_pca = pd.DataFrame(pca_values[:,:3], columns=['PC1', 'PC2', 'PC3'])\n",
    "wine_pca.head(10)"
   ]
  },
  {
   "cell_type": "markdown",
   "id": "3d2b1883",
   "metadata": {},
   "source": [
    "# Building Model "
   ]
  },
  {
   "cell_type": "markdown",
   "id": "a260b26e",
   "metadata": {},
   "source": [
    "## Hierarchical Clustering with PCA"
   ]
  },
  {
   "cell_type": "code",
   "execution_count": 17,
   "id": "44170233",
   "metadata": {
    "scrolled": false
   },
   "outputs": [
    {
     "data": {
      "image/png": "[encoded data removed]",
      "text/plain": [
       "<Figure size 1440x720 with 1 Axes>"
      ]
     },
     "metadata": {
      "needs_background": "light"
     },
     "output_type": "display_data"
    }
   ],
   "source": [
    "plt.figure(figsize=(20,10))\n",
    "dendrogram=sch.dendrogram(sch.linkage(wine_pca, method='average'))"
   ]
  },
  {
   "cell_type": "markdown",
   "id": "65f119c3",
   "metadata": {},
   "source": [
    "##### From above dendrogram, we can see that '3' number of clusters are formed."
   ]
  },
  {
   "cell_type": "code",
   "execution_count": 18,
   "id": "2f65881e",
   "metadata": {},
   "outputs": [],
   "source": [
    "hc = AgglomerativeClustering(n_clusters=3)"
   ]
  },
  {
   "cell_type": "code",
   "execution_count": 19,
   "id": "a6a2ba15",
   "metadata": {},
   "outputs": [
    {
     "data": {
      "text/plain": [
       "array([1, 1, 1, 1, 1, 1, 1, 1, 1, 1, 1, 1, 1, 1, 1, 1, 1, 1, 1, 1, 1, 1,\n",
       "       1, 1, 1, 1, 1, 1, 1, 1, 1, 1, 1, 1, 1, 1, 1, 1, 1, 1, 1, 1, 1, 1,\n",
       "       1, 1, 1, 1, 1, 1, 1, 1, 1, 1, 1, 1, 1, 1, 0, 0, 0, 0, 0, 0, 0, 0,\n",
       "       0, 0, 0, 0, 0, 0, 0, 0, 0, 0, 2, 0, 0, 0, 0, 0, 0, 0, 0, 0, 0, 0,\n",
       "       0, 0, 0, 0, 0, 0, 0, 0, 0, 0, 0, 0, 0, 0, 0, 0, 0, 0, 0, 0, 0, 0,\n",
       "       0, 0, 0, 0, 2, 2, 2, 0, 2, 2, 2, 2, 2, 2, 2, 2, 2, 2, 2, 2, 2, 2,\n",
       "       2, 2, 2, 2, 2, 2, 2, 2, 2, 2, 2, 2, 2, 2, 2, 2, 2, 2], dtype=int64)"
      ]
     },
     "execution_count": 19,
     "metadata": {},
     "output_type": "execute_result"
    }
   ],
   "source": [
    "wine_hc=hc.fit(wine_pca)\n",
    "wine_hc.labels_"
   ]
  },
  {
   "cell_type": "markdown",
   "id": "a1885aa6",
   "metadata": {},
   "source": [
    "#### Calculating 'Silhouette' Score "
   ]
  },
  {
   "cell_type": "code",
   "execution_count": 20,
   "id": "8ca3341d",
   "metadata": {},
   "outputs": [
    {
     "data": {
      "text/plain": [
       "0.4855"
      ]
     },
     "execution_count": 20,
     "metadata": {},
     "output_type": "execute_result"
    }
   ],
   "source": [
    "import sklearn\n",
    "round(sklearn.metrics.silhouette_score(wine_pca, wine_hc.labels_),4)"
   ]
  },
  {
   "cell_type": "markdown",
   "id": "88bec27f",
   "metadata": {},
   "source": [
    "#### Adding Cluster column in the data"
   ]
  },
  {
   "cell_type": "code",
   "execution_count": 21,
   "id": "4be7ada7",
   "metadata": {},
   "outputs": [
    {
     "data": {
      "text/html": [
       "<div>\n",
       "<style scoped>\n",
       "    .dataframe tbody tr th:only-of-type {\n",
       "        vertical-align: middle;\n",
       "    }\n",
       "\n",
       "    .dataframe tbody tr th {\n",
       "        vertical-align: top;\n",
       "    }\n",
       "\n",
       "    .dataframe thead th {\n",
       "        text-align: right;\n",
       "    }\n",
       "</style>\n",
       "<table border=\"1\" class=\"dataframe\">\n",
       "  <thead>\n",
       "    <tr style=\"text-align: right;\">\n",
       "      <th></th>\n",
       "      <th>PC1</th>\n",
       "      <th>PC2</th>\n",
       "      <th>PC3</th>\n",
       "      <th>ClusterID_HC</th>\n",
       "    </tr>\n",
       "  </thead>\n",
       "  <tbody>\n",
       "    <tr>\n",
       "      <th>0</th>\n",
       "      <td>0.790538</td>\n",
       "      <td>-0.277535</td>\n",
       "      <td>-0.007065</td>\n",
       "      <td>1</td>\n",
       "    </tr>\n",
       "    <tr>\n",
       "      <th>1</th>\n",
       "      <td>0.506387</td>\n",
       "      <td>0.082910</td>\n",
       "      <td>-0.424192</td>\n",
       "      <td>1</td>\n",
       "    </tr>\n",
       "    <tr>\n",
       "      <th>2</th>\n",
       "      <td>0.601921</td>\n",
       "      <td>-0.176527</td>\n",
       "      <td>0.286398</td>\n",
       "      <td>1</td>\n",
       "    </tr>\n",
       "    <tr>\n",
       "      <th>3</th>\n",
       "      <td>0.912068</td>\n",
       "      <td>-0.576468</td>\n",
       "      <td>0.007376</td>\n",
       "      <td>1</td>\n",
       "    </tr>\n",
       "    <tr>\n",
       "      <th>4</th>\n",
       "      <td>0.239121</td>\n",
       "      <td>-0.163202</td>\n",
       "      <td>0.536644</td>\n",
       "      <td>1</td>\n",
       "    </tr>\n",
       "  </tbody>\n",
       "</table>\n",
       "</div>"
      ],
      "text/plain": [
       "        PC1       PC2       PC3  ClusterID_HC\n",
       "0  0.790538 -0.277535 -0.007065             1\n",
       "1  0.506387  0.082910 -0.424192             1\n",
       "2  0.601921 -0.176527  0.286398             1\n",
       "3  0.912068 -0.576468  0.007376             1\n",
       "4  0.239121 -0.163202  0.536644             1"
      ]
     },
     "execution_count": 21,
     "metadata": {},
     "output_type": "execute_result"
    }
   ],
   "source": [
    "wine_pca['ClusterID_HC']=wine_hc.labels_\n",
    "wine_pca.head()"
   ]
  },
  {
   "cell_type": "markdown",
   "id": "fd946241",
   "metadata": {},
   "source": [
    "#### Grouping clusters"
   ]
  },
  {
   "cell_type": "code",
   "execution_count": 22,
   "id": "cccf0f29",
   "metadata": {},
   "outputs": [
    {
     "data": {
      "text/html": [
       "<div>\n",
       "<style scoped>\n",
       "    .dataframe tbody tr th:only-of-type {\n",
       "        vertical-align: middle;\n",
       "    }\n",
       "\n",
       "    .dataframe tbody tr th {\n",
       "        vertical-align: top;\n",
       "    }\n",
       "\n",
       "    .dataframe thead th {\n",
       "        text-align: right;\n",
       "    }\n",
       "</style>\n",
       "<table border=\"1\" class=\"dataframe\">\n",
       "  <thead>\n",
       "    <tr style=\"text-align: right;\">\n",
       "      <th></th>\n",
       "      <th>PC1</th>\n",
       "      <th>PC2</th>\n",
       "      <th>PC3</th>\n",
       "    </tr>\n",
       "    <tr>\n",
       "      <th>ClusterID_HC</th>\n",
       "      <th></th>\n",
       "      <th></th>\n",
       "      <th></th>\n",
       "    </tr>\n",
       "  </thead>\n",
       "  <tbody>\n",
       "    <tr>\n",
       "      <th>0</th>\n",
       "      <td>-0.107120</td>\n",
       "      <td>0.412517</td>\n",
       "      <td>0.009055</td>\n",
       "    </tr>\n",
       "    <tr>\n",
       "      <th>1</th>\n",
       "      <td>0.548402</td>\n",
       "      <td>-0.188403</td>\n",
       "      <td>-0.011935</td>\n",
       "    </tr>\n",
       "    <tr>\n",
       "      <th>2</th>\n",
       "      <td>-0.716906</td>\n",
       "      <td>-0.338156</td>\n",
       "      <td>0.005144</td>\n",
       "    </tr>\n",
       "  </tbody>\n",
       "</table>\n",
       "</div>"
      ],
      "text/plain": [
       "                   PC1       PC2       PC3\n",
       "ClusterID_HC                              \n",
       "0            -0.107120  0.412517  0.009055\n",
       "1             0.548402 -0.188403 -0.011935\n",
       "2            -0.716906 -0.338156  0.005144"
      ]
     },
     "execution_count": 22,
     "metadata": {},
     "output_type": "execute_result"
    }
   ],
   "source": [
    "wine_pca.groupby('ClusterID_HC').mean()"
   ]
  },
  {
   "cell_type": "code",
   "execution_count": 23,
   "id": "cc84087f",
   "metadata": {},
   "outputs": [
    {
     "data": {
      "text/plain": [
       "1    58\n",
       "0    56\n",
       "2    36\n",
       "Name: ClusterID_HC, dtype: int64"
      ]
     },
     "execution_count": 23,
     "metadata": {},
     "output_type": "execute_result"
    }
   ],
   "source": [
    "wine_pca['ClusterID_HC'].value_counts()"
   ]
  },
  {
   "cell_type": "markdown",
   "id": "cf3f637c",
   "metadata": {},
   "source": [
    "## Hierarchical Clustering without PCA "
   ]
  },
  {
   "cell_type": "code",
   "execution_count": 24,
   "id": "62311527",
   "metadata": {},
   "outputs": [
    {
     "data": {
      "text/html": [
       "<div>\n",
       "<style scoped>\n",
       "    .dataframe tbody tr th:only-of-type {\n",
       "        vertical-align: middle;\n",
       "    }\n",
       "\n",
       "    .dataframe tbody tr th {\n",
       "        vertical-align: top;\n",
       "    }\n",
       "\n",
       "    .dataframe thead th {\n",
       "        text-align: right;\n",
       "    }\n",
       "</style>\n",
       "<table border=\"1\" class=\"dataframe\">\n",
       "  <thead>\n",
       "    <tr style=\"text-align: right;\">\n",
       "      <th></th>\n",
       "      <th>Alcohol</th>\n",
       "      <th>Malic</th>\n",
       "      <th>Ash</th>\n",
       "      <th>Alcalinity</th>\n",
       "      <th>Magnesium</th>\n",
       "      <th>Phenols</th>\n",
       "      <th>Flavanoids</th>\n",
       "      <th>Nonflavanoids</th>\n",
       "      <th>Proanthocyanins</th>\n",
       "      <th>Color</th>\n",
       "      <th>Hue</th>\n",
       "      <th>Dilution</th>\n",
       "      <th>Proline</th>\n",
       "    </tr>\n",
       "  </thead>\n",
       "  <tbody>\n",
       "    <tr>\n",
       "      <th>0</th>\n",
       "      <td>0.824561</td>\n",
       "      <td>0.230404</td>\n",
       "      <td>0.528846</td>\n",
       "      <td>0.318841</td>\n",
       "      <td>0.919355</td>\n",
       "      <td>0.611511</td>\n",
       "      <td>0.748555</td>\n",
       "      <td>0.283019</td>\n",
       "      <td>0.737255</td>\n",
       "      <td>0.485523</td>\n",
       "      <td>0.549451</td>\n",
       "      <td>0.970696</td>\n",
       "      <td>0.561341</td>\n",
       "    </tr>\n",
       "    <tr>\n",
       "      <th>1</th>\n",
       "      <td>0.523392</td>\n",
       "      <td>0.247031</td>\n",
       "      <td>0.250000</td>\n",
       "      <td>0.000000</td>\n",
       "      <td>0.483871</td>\n",
       "      <td>0.557554</td>\n",
       "      <td>0.661850</td>\n",
       "      <td>0.245283</td>\n",
       "      <td>0.341176</td>\n",
       "      <td>0.345212</td>\n",
       "      <td>0.560440</td>\n",
       "      <td>0.780220</td>\n",
       "      <td>0.550642</td>\n",
       "    </tr>\n",
       "    <tr>\n",
       "      <th>2</th>\n",
       "      <td>0.511696</td>\n",
       "      <td>0.384798</td>\n",
       "      <td>0.759615</td>\n",
       "      <td>0.536232</td>\n",
       "      <td>0.500000</td>\n",
       "      <td>0.611511</td>\n",
       "      <td>0.800578</td>\n",
       "      <td>0.320755</td>\n",
       "      <td>0.941176</td>\n",
       "      <td>0.489978</td>\n",
       "      <td>0.538462</td>\n",
       "      <td>0.695971</td>\n",
       "      <td>0.646933</td>\n",
       "    </tr>\n",
       "    <tr>\n",
       "      <th>3</th>\n",
       "      <td>0.865497</td>\n",
       "      <td>0.287411</td>\n",
       "      <td>0.596154</td>\n",
       "      <td>0.405797</td>\n",
       "      <td>0.693548</td>\n",
       "      <td>0.989209</td>\n",
       "      <td>0.872832</td>\n",
       "      <td>0.207547</td>\n",
       "      <td>0.694118</td>\n",
       "      <td>0.726058</td>\n",
       "      <td>0.351648</td>\n",
       "      <td>0.798535</td>\n",
       "      <td>0.857347</td>\n",
       "    </tr>\n",
       "    <tr>\n",
       "      <th>4</th>\n",
       "      <td>0.535088</td>\n",
       "      <td>0.439430</td>\n",
       "      <td>0.951923</td>\n",
       "      <td>0.710145</td>\n",
       "      <td>0.774194</td>\n",
       "      <td>0.611511</td>\n",
       "      <td>0.641618</td>\n",
       "      <td>0.490566</td>\n",
       "      <td>0.552941</td>\n",
       "      <td>0.338530</td>\n",
       "      <td>0.549451</td>\n",
       "      <td>0.608059</td>\n",
       "      <td>0.325963</td>\n",
       "    </tr>\n",
       "  </tbody>\n",
       "</table>\n",
       "</div>"
      ],
      "text/plain": [
       "    Alcohol     Malic       Ash  Alcalinity  Magnesium   Phenols  Flavanoids  \\\n",
       "0  0.824561  0.230404  0.528846    0.318841   0.919355  0.611511    0.748555   \n",
       "1  0.523392  0.247031  0.250000    0.000000   0.483871  0.557554    0.661850   \n",
       "2  0.511696  0.384798  0.759615    0.536232   0.500000  0.611511    0.800578   \n",
       "3  0.865497  0.287411  0.596154    0.405797   0.693548  0.989209    0.872832   \n",
       "4  0.535088  0.439430  0.951923    0.710145   0.774194  0.611511    0.641618   \n",
       "\n",
       "   Nonflavanoids  Proanthocyanins     Color       Hue  Dilution   Proline  \n",
       "0       0.283019         0.737255  0.485523  0.549451  0.970696  0.561341  \n",
       "1       0.245283         0.341176  0.345212  0.560440  0.780220  0.550642  \n",
       "2       0.320755         0.941176  0.489978  0.538462  0.695971  0.646933  \n",
       "3       0.207547         0.694118  0.726058  0.351648  0.798535  0.857347  \n",
       "4       0.490566         0.552941  0.338530  0.549451  0.608059  0.325963  "
      ]
     },
     "execution_count": 24,
     "metadata": {},
     "output_type": "execute_result"
    }
   ],
   "source": [
    "wine_std.head()"
   ]
  },
  {
   "cell_type": "code",
   "execution_count": 25,
   "id": "5f74cf09",
   "metadata": {},
   "outputs": [
    {
     "data": {
      "image/png": "[encoded data removed]",
      "text/plain": [
       "<Figure size 1440x720 with 1 Axes>"
      ]
     },
     "metadata": {
      "needs_background": "light"
     },
     "output_type": "display_data"
    }
   ],
   "source": [
    "plt.figure(figsize=(20,10))\n",
    "dendrogram=sch.dendrogram(sch.linkage(wine_std, method='average'))"
   ]
  },
  {
   "cell_type": "markdown",
   "id": "59a5b620",
   "metadata": {},
   "source": [
    "##### From above dendrogram, we are selecting number of clusters as '7'."
   ]
  },
  {
   "cell_type": "code",
   "execution_count": 26,
   "id": "b0d24d42",
   "metadata": {},
   "outputs": [],
   "source": [
    "hc=AgglomerativeClustering(n_clusters=7)"
   ]
  },
  {
   "cell_type": "code",
   "execution_count": 27,
   "id": "081212f1",
   "metadata": {},
   "outputs": [
    {
     "data": {
      "text/plain": [
       "array([2, 2, 2, 2, 5, 2, 2, 5, 2, 2, 2, 2, 2, 2, 2, 5, 5, 5, 2, 6, 2, 6,\n",
       "       2, 5, 5, 5, 2, 5, 2, 2, 2, 5, 5, 5, 5, 5, 5, 2, 6, 2, 6, 5, 6, 2,\n",
       "       6, 6, 2, 2, 2, 2, 2, 2, 5, 2, 2, 2, 5, 2, 0, 0, 1, 1, 4, 5, 1, 0,\n",
       "       0, 5, 1, 1, 4, 4, 1, 1, 1, 4, 0, 1, 1, 4, 4, 1, 4, 4, 4, 1, 1, 1,\n",
       "       1, 1, 1, 1, 1, 1, 4, 1, 4, 1, 1, 1, 4, 4, 1, 1, 1, 0, 4, 1, 1, 1,\n",
       "       1, 1, 4, 0, 0, 0, 0, 0, 0, 0, 0, 0, 0, 0, 0, 0, 3, 0, 3, 3, 3, 3,\n",
       "       0, 3, 3, 0, 0, 0, 3, 0, 3, 3, 3, 0, 3, 3, 3, 3, 3, 3], dtype=int64)"
      ]
     },
     "execution_count": 27,
     "metadata": {},
     "output_type": "execute_result"
    }
   ],
   "source": [
    "wine_hc1=hc.fit(wine_std)\n",
    "wine_hc1.labels_"
   ]
  },
  {
   "cell_type": "markdown",
   "id": "9b6f82ff",
   "metadata": {},
   "source": [
    "#### Calculating 'Silhoutte' Score"
   ]
  },
  {
   "cell_type": "code",
   "execution_count": 28,
   "id": "328387d2",
   "metadata": {
    "scrolled": true
   },
   "outputs": [
    {
     "data": {
      "text/plain": [
       "0.1383"
      ]
     },
     "execution_count": 28,
     "metadata": {},
     "output_type": "execute_result"
    }
   ],
   "source": [
    "round(sklearn.metrics.silhouette_score(wine_std, wine_hc1.labels_),4)"
   ]
  },
  {
   "cell_type": "markdown",
   "id": "2ef50462",
   "metadata": {},
   "source": [
    "#### Adding cluster column"
   ]
  },
  {
   "cell_type": "code",
   "execution_count": 29,
   "id": "3b1eb2dd",
   "metadata": {
    "scrolled": true
   },
   "outputs": [
    {
     "data": {
      "text/html": [
       "<div>\n",
       "<style scoped>\n",
       "    .dataframe tbody tr th:only-of-type {\n",
       "        vertical-align: middle;\n",
       "    }\n",
       "\n",
       "    .dataframe tbody tr th {\n",
       "        vertical-align: top;\n",
       "    }\n",
       "\n",
       "    .dataframe thead th {\n",
       "        text-align: right;\n",
       "    }\n",
       "</style>\n",
       "<table border=\"1\" class=\"dataframe\">\n",
       "  <thead>\n",
       "    <tr style=\"text-align: right;\">\n",
       "      <th></th>\n",
       "      <th>Alcohol</th>\n",
       "      <th>Malic</th>\n",
       "      <th>Ash</th>\n",
       "      <th>Alcalinity</th>\n",
       "      <th>Magnesium</th>\n",
       "      <th>Phenols</th>\n",
       "      <th>Flavanoids</th>\n",
       "      <th>Nonflavanoids</th>\n",
       "      <th>Proanthocyanins</th>\n",
       "      <th>Color</th>\n",
       "      <th>Hue</th>\n",
       "      <th>Dilution</th>\n",
       "      <th>Proline</th>\n",
       "      <th>ClusterID</th>\n",
       "    </tr>\n",
       "  </thead>\n",
       "  <tbody>\n",
       "    <tr>\n",
       "      <th>0</th>\n",
       "      <td>0.824561</td>\n",
       "      <td>0.230404</td>\n",
       "      <td>0.528846</td>\n",
       "      <td>0.318841</td>\n",
       "      <td>0.919355</td>\n",
       "      <td>0.611511</td>\n",
       "      <td>0.748555</td>\n",
       "      <td>0.283019</td>\n",
       "      <td>0.737255</td>\n",
       "      <td>0.485523</td>\n",
       "      <td>0.549451</td>\n",
       "      <td>0.970696</td>\n",
       "      <td>0.561341</td>\n",
       "      <td>2</td>\n",
       "    </tr>\n",
       "    <tr>\n",
       "      <th>1</th>\n",
       "      <td>0.523392</td>\n",
       "      <td>0.247031</td>\n",
       "      <td>0.250000</td>\n",
       "      <td>0.000000</td>\n",
       "      <td>0.483871</td>\n",
       "      <td>0.557554</td>\n",
       "      <td>0.661850</td>\n",
       "      <td>0.245283</td>\n",
       "      <td>0.341176</td>\n",
       "      <td>0.345212</td>\n",
       "      <td>0.560440</td>\n",
       "      <td>0.780220</td>\n",
       "      <td>0.550642</td>\n",
       "      <td>2</td>\n",
       "    </tr>\n",
       "    <tr>\n",
       "      <th>2</th>\n",
       "      <td>0.511696</td>\n",
       "      <td>0.384798</td>\n",
       "      <td>0.759615</td>\n",
       "      <td>0.536232</td>\n",
       "      <td>0.500000</td>\n",
       "      <td>0.611511</td>\n",
       "      <td>0.800578</td>\n",
       "      <td>0.320755</td>\n",
       "      <td>0.941176</td>\n",
       "      <td>0.489978</td>\n",
       "      <td>0.538462</td>\n",
       "      <td>0.695971</td>\n",
       "      <td>0.646933</td>\n",
       "      <td>2</td>\n",
       "    </tr>\n",
       "    <tr>\n",
       "      <th>3</th>\n",
       "      <td>0.865497</td>\n",
       "      <td>0.287411</td>\n",
       "      <td>0.596154</td>\n",
       "      <td>0.405797</td>\n",
       "      <td>0.693548</td>\n",
       "      <td>0.989209</td>\n",
       "      <td>0.872832</td>\n",
       "      <td>0.207547</td>\n",
       "      <td>0.694118</td>\n",
       "      <td>0.726058</td>\n",
       "      <td>0.351648</td>\n",
       "      <td>0.798535</td>\n",
       "      <td>0.857347</td>\n",
       "      <td>2</td>\n",
       "    </tr>\n",
       "    <tr>\n",
       "      <th>4</th>\n",
       "      <td>0.535088</td>\n",
       "      <td>0.439430</td>\n",
       "      <td>0.951923</td>\n",
       "      <td>0.710145</td>\n",
       "      <td>0.774194</td>\n",
       "      <td>0.611511</td>\n",
       "      <td>0.641618</td>\n",
       "      <td>0.490566</td>\n",
       "      <td>0.552941</td>\n",
       "      <td>0.338530</td>\n",
       "      <td>0.549451</td>\n",
       "      <td>0.608059</td>\n",
       "      <td>0.325963</td>\n",
       "      <td>5</td>\n",
       "    </tr>\n",
       "  </tbody>\n",
       "</table>\n",
       "</div>"
      ],
      "text/plain": [
       "    Alcohol     Malic       Ash  Alcalinity  Magnesium   Phenols  Flavanoids  \\\n",
       "0  0.824561  0.230404  0.528846    0.318841   0.919355  0.611511    0.748555   \n",
       "1  0.523392  0.247031  0.250000    0.000000   0.483871  0.557554    0.661850   \n",
       "2  0.511696  0.384798  0.759615    0.536232   0.500000  0.611511    0.800578   \n",
       "3  0.865497  0.287411  0.596154    0.405797   0.693548  0.989209    0.872832   \n",
       "4  0.535088  0.439430  0.951923    0.710145   0.774194  0.611511    0.641618   \n",
       "\n",
       "   Nonflavanoids  Proanthocyanins     Color       Hue  Dilution   Proline  \\\n",
       "0       0.283019         0.737255  0.485523  0.549451  0.970696  0.561341   \n",
       "1       0.245283         0.341176  0.345212  0.560440  0.780220  0.550642   \n",
       "2       0.320755         0.941176  0.489978  0.538462  0.695971  0.646933   \n",
       "3       0.207547         0.694118  0.726058  0.351648  0.798535  0.857347   \n",
       "4       0.490566         0.552941  0.338530  0.549451  0.608059  0.325963   \n",
       "\n",
       "   ClusterID  \n",
       "0          2  \n",
       "1          2  \n",
       "2          2  \n",
       "3          2  \n",
       "4          5  "
      ]
     },
     "execution_count": 29,
     "metadata": {},
     "output_type": "execute_result"
    }
   ],
   "source": [
    "wine_std['ClusterID']=wine_hc1.labels_\n",
    "wine_std.head()"
   ]
  },
  {
   "cell_type": "markdown",
   "id": "6e56e39f",
   "metadata": {},
   "source": [
    "#### Grouping Clusters"
   ]
  },
  {
   "cell_type": "code",
   "execution_count": 30,
   "id": "43f26d9a",
   "metadata": {},
   "outputs": [
    {
     "data": {
      "text/html": [
       "<div>\n",
       "<style scoped>\n",
       "    .dataframe tbody tr th:only-of-type {\n",
       "        vertical-align: middle;\n",
       "    }\n",
       "\n",
       "    .dataframe tbody tr th {\n",
       "        vertical-align: top;\n",
       "    }\n",
       "\n",
       "    .dataframe thead th {\n",
       "        text-align: right;\n",
       "    }\n",
       "</style>\n",
       "<table border=\"1\" class=\"dataframe\">\n",
       "  <thead>\n",
       "    <tr style=\"text-align: right;\">\n",
       "      <th></th>\n",
       "      <th>Alcohol</th>\n",
       "      <th>Malic</th>\n",
       "      <th>Ash</th>\n",
       "      <th>Alcalinity</th>\n",
       "      <th>Magnesium</th>\n",
       "      <th>Phenols</th>\n",
       "      <th>Flavanoids</th>\n",
       "      <th>Nonflavanoids</th>\n",
       "      <th>Proanthocyanins</th>\n",
       "      <th>Color</th>\n",
       "      <th>Hue</th>\n",
       "      <th>Dilution</th>\n",
       "      <th>Proline</th>\n",
       "    </tr>\n",
       "    <tr>\n",
       "      <th>ClusterID</th>\n",
       "      <th></th>\n",
       "      <th></th>\n",
       "      <th></th>\n",
       "      <th></th>\n",
       "      <th></th>\n",
       "      <th></th>\n",
       "      <th></th>\n",
       "      <th></th>\n",
       "      <th></th>\n",
       "      <th></th>\n",
       "      <th></th>\n",
       "      <th></th>\n",
       "      <th></th>\n",
       "    </tr>\n",
       "  </thead>\n",
       "  <tbody>\n",
       "    <tr>\n",
       "      <th>0</th>\n",
       "      <td>0.441970</td>\n",
       "      <td>0.492874</td>\n",
       "      <td>0.443047</td>\n",
       "      <td>0.638239</td>\n",
       "      <td>0.451613</td>\n",
       "      <td>0.191616</td>\n",
       "      <td>0.102935</td>\n",
       "      <td>0.634978</td>\n",
       "      <td>0.196983</td>\n",
       "      <td>0.414554</td>\n",
       "      <td>0.292730</td>\n",
       "      <td>0.185827</td>\n",
       "      <td>0.242483</td>\n",
       "    </tr>\n",
       "    <tr>\n",
       "      <th>1</th>\n",
       "      <td>0.255757</td>\n",
       "      <td>0.248144</td>\n",
       "      <td>0.309195</td>\n",
       "      <td>0.644022</td>\n",
       "      <td>0.310484</td>\n",
       "      <td>0.495504</td>\n",
       "      <td>0.532876</td>\n",
       "      <td>0.338443</td>\n",
       "      <td>0.494240</td>\n",
       "      <td>0.185064</td>\n",
       "      <td>0.533997</td>\n",
       "      <td>0.656136</td>\n",
       "      <td>0.143032</td>\n",
       "    </tr>\n",
       "    <tr>\n",
       "      <th>2</th>\n",
       "      <td>0.717349</td>\n",
       "      <td>0.235226</td>\n",
       "      <td>0.444056</td>\n",
       "      <td>0.361660</td>\n",
       "      <td>0.556696</td>\n",
       "      <td>0.651951</td>\n",
       "      <td>0.761867</td>\n",
       "      <td>0.264151</td>\n",
       "      <td>0.655971</td>\n",
       "      <td>0.524836</td>\n",
       "      <td>0.576757</td>\n",
       "      <td>0.693862</td>\n",
       "      <td>0.646328</td>\n",
       "    </tr>\n",
       "    <tr>\n",
       "      <th>3</th>\n",
       "      <td>0.545752</td>\n",
       "      <td>0.659634</td>\n",
       "      <td>0.542986</td>\n",
       "      <td>0.746377</td>\n",
       "      <td>0.496205</td>\n",
       "      <td>0.206094</td>\n",
       "      <td>0.104386</td>\n",
       "      <td>0.541620</td>\n",
       "      <td>0.308420</td>\n",
       "      <td>0.850124</td>\n",
       "      <td>0.088559</td>\n",
       "      <td>0.141564</td>\n",
       "      <td>0.262188</td>\n",
       "    </tr>\n",
       "    <tr>\n",
       "      <th>4</th>\n",
       "      <td>0.185575</td>\n",
       "      <td>0.320507</td>\n",
       "      <td>0.455769</td>\n",
       "      <td>0.681643</td>\n",
       "      <td>0.316129</td>\n",
       "      <td>0.246283</td>\n",
       "      <td>0.342775</td>\n",
       "      <td>0.645283</td>\n",
       "      <td>0.390588</td>\n",
       "      <td>0.174165</td>\n",
       "      <td>0.590476</td>\n",
       "      <td>0.456654</td>\n",
       "      <td>0.158393</td>\n",
       "    </tr>\n",
       "    <tr>\n",
       "      <th>5</th>\n",
       "      <td>0.619883</td>\n",
       "      <td>0.250119</td>\n",
       "      <td>0.728846</td>\n",
       "      <td>0.531884</td>\n",
       "      <td>0.591129</td>\n",
       "      <td>0.591727</td>\n",
       "      <td>0.683237</td>\n",
       "      <td>0.370755</td>\n",
       "      <td>0.487451</td>\n",
       "      <td>0.410468</td>\n",
       "      <td>0.638462</td>\n",
       "      <td>0.651465</td>\n",
       "      <td>0.542546</td>\n",
       "    </tr>\n",
       "    <tr>\n",
       "      <th>6</th>\n",
       "      <td>0.675021</td>\n",
       "      <td>0.718018</td>\n",
       "      <td>0.506868</td>\n",
       "      <td>0.412008</td>\n",
       "      <td>0.603687</td>\n",
       "      <td>0.596095</td>\n",
       "      <td>0.673823</td>\n",
       "      <td>0.234501</td>\n",
       "      <td>0.528291</td>\n",
       "      <td>0.390073</td>\n",
       "      <td>0.430141</td>\n",
       "      <td>0.747776</td>\n",
       "      <td>0.437029</td>\n",
       "    </tr>\n",
       "  </tbody>\n",
       "</table>\n",
       "</div>"
      ],
      "text/plain": [
       "            Alcohol     Malic       Ash  Alcalinity  Magnesium   Phenols  \\\n",
       "ClusterID                                                                  \n",
       "0          0.441970  0.492874  0.443047    0.638239   0.451613  0.191616   \n",
       "1          0.255757  0.248144  0.309195    0.644022   0.310484  0.495504   \n",
       "2          0.717349  0.235226  0.444056    0.361660   0.556696  0.651951   \n",
       "3          0.545752  0.659634  0.542986    0.746377   0.496205  0.206094   \n",
       "4          0.185575  0.320507  0.455769    0.681643   0.316129  0.246283   \n",
       "5          0.619883  0.250119  0.728846    0.531884   0.591129  0.591727   \n",
       "6          0.675021  0.718018  0.506868    0.412008   0.603687  0.596095   \n",
       "\n",
       "           Flavanoids  Nonflavanoids  Proanthocyanins     Color       Hue  \\\n",
       "ClusterID                                                                   \n",
       "0            0.102935       0.634978         0.196983  0.414554  0.292730   \n",
       "1            0.532876       0.338443         0.494240  0.185064  0.533997   \n",
       "2            0.761867       0.264151         0.655971  0.524836  0.576757   \n",
       "3            0.104386       0.541620         0.308420  0.850124  0.088559   \n",
       "4            0.342775       0.645283         0.390588  0.174165  0.590476   \n",
       "5            0.683237       0.370755         0.487451  0.410468  0.638462   \n",
       "6            0.673823       0.234501         0.528291  0.390073  0.430141   \n",
       "\n",
       "           Dilution   Proline  \n",
       "ClusterID                      \n",
       "0          0.185827  0.242483  \n",
       "1          0.656136  0.143032  \n",
       "2          0.693862  0.646328  \n",
       "3          0.141564  0.262188  \n",
       "4          0.456654  0.158393  \n",
       "5          0.651465  0.542546  \n",
       "6          0.747776  0.437029  "
      ]
     },
     "execution_count": 30,
     "metadata": {},
     "output_type": "execute_result"
    }
   ],
   "source": [
    "wine_std.groupby('ClusterID').mean()"
   ]
  },
  {
   "cell_type": "markdown",
   "id": "7f9dfdbe",
   "metadata": {},
   "source": [
    "### Observation:\n",
    "* Silhouette score (Hierarchical Clustering) :\n",
    "    \n",
    "    1. With PCA    :- 0.4855\n",
    "    \n",
    "    2. Without PCA :- 0.1383\n",
    "    \n",
    "* From this, we can say that Hierarchical clustering model done with the help of PCA is better than without PCA."
   ]
  },
  {
   "cell_type": "markdown",
   "id": "c15ec62e",
   "metadata": {},
   "source": [
    "## Kmeans with PCA"
   ]
  },
  {
   "cell_type": "code",
   "execution_count": 31,
   "id": "159ba721",
   "metadata": {},
   "outputs": [
    {
     "data": {
      "text/html": [
       "<div>\n",
       "<style scoped>\n",
       "    .dataframe tbody tr th:only-of-type {\n",
       "        vertical-align: middle;\n",
       "    }\n",
       "\n",
       "    .dataframe tbody tr th {\n",
       "        vertical-align: top;\n",
       "    }\n",
       "\n",
       "    .dataframe thead th {\n",
       "        text-align: right;\n",
       "    }\n",
       "</style>\n",
       "<table border=\"1\" class=\"dataframe\">\n",
       "  <thead>\n",
       "    <tr style=\"text-align: right;\">\n",
       "      <th></th>\n",
       "      <th>PC1</th>\n",
       "      <th>PC2</th>\n",
       "      <th>PC3</th>\n",
       "    </tr>\n",
       "  </thead>\n",
       "  <tbody>\n",
       "    <tr>\n",
       "      <th>0</th>\n",
       "      <td>0.790538</td>\n",
       "      <td>-0.277535</td>\n",
       "      <td>-0.007065</td>\n",
       "    </tr>\n",
       "    <tr>\n",
       "      <th>1</th>\n",
       "      <td>0.506387</td>\n",
       "      <td>0.082910</td>\n",
       "      <td>-0.424192</td>\n",
       "    </tr>\n",
       "    <tr>\n",
       "      <th>2</th>\n",
       "      <td>0.601921</td>\n",
       "      <td>-0.176527</td>\n",
       "      <td>0.286398</td>\n",
       "    </tr>\n",
       "    <tr>\n",
       "      <th>3</th>\n",
       "      <td>0.912068</td>\n",
       "      <td>-0.576468</td>\n",
       "      <td>0.007376</td>\n",
       "    </tr>\n",
       "    <tr>\n",
       "      <th>4</th>\n",
       "      <td>0.239121</td>\n",
       "      <td>-0.163202</td>\n",
       "      <td>0.536644</td>\n",
       "    </tr>\n",
       "  </tbody>\n",
       "</table>\n",
       "</div>"
      ],
      "text/plain": [
       "        PC1       PC2       PC3\n",
       "0  0.790538 -0.277535 -0.007065\n",
       "1  0.506387  0.082910 -0.424192\n",
       "2  0.601921 -0.176527  0.286398\n",
       "3  0.912068 -0.576468  0.007376\n",
       "4  0.239121 -0.163202  0.536644"
      ]
     },
     "execution_count": 31,
     "metadata": {},
     "output_type": "execute_result"
    }
   ],
   "source": [
    "wine_pca.drop(wine_pca.columns[-1], axis=1, inplace=True)\n",
    "wine_pca.head()"
   ]
  },
  {
   "cell_type": "markdown",
   "id": "0167cc9a",
   "metadata": {},
   "source": [
    "#### 'Elbow' curve"
   ]
  },
  {
   "cell_type": "code",
   "execution_count": 32,
   "id": "712ae6d3",
   "metadata": {},
   "outputs": [
    {
     "data": {
      "image/png": "[encoded data removed]",
      "text/plain": [
       "<Figure size 720x576 with 1 Axes>"
      ]
     },
     "metadata": {
      "needs_background": "light"
     },
     "output_type": "display_data"
    }
   ],
   "source": [
    "plt.figure(figsize=[10,8])\n",
    "\n",
    "wcss=[]\n",
    "for i in range(1,11):\n",
    "    kmeans=KMeans(n_clusters=i, init='k-means++')\n",
    "    kmeans.fit(wine_pca)\n",
    "    wcss.append(kmeans.inertia_)\n",
    "    \n",
    "plt.plot(range(1,11), wcss)\n",
    "plt.title('Elbow Method')\n",
    "plt.xlabel('K value')\n",
    "plt.ylabel('WCSS')\n",
    "plt.show()"
   ]
  },
  {
   "cell_type": "markdown",
   "id": "4ab19394",
   "metadata": {},
   "source": [
    "* From above elbow method curve, we will select K value as '3'."
   ]
  },
  {
   "cell_type": "code",
   "execution_count": 33,
   "id": "3d7402cc",
   "metadata": {},
   "outputs": [
    {
     "data": {
      "text/plain": [
       "array([1, 1, 1, 1, 1, 1, 1, 1, 1, 1, 1, 1, 1, 1, 1, 1, 1, 1, 1, 1, 1, 1,\n",
       "       1, 1, 1, 1, 1, 1, 1, 1, 1, 1, 1, 1, 1, 1, 1, 1, 1, 1, 1, 1, 1, 1,\n",
       "       1, 1, 1, 1, 1, 1, 1, 1, 1, 1, 1, 1, 1, 1, 0, 2, 0, 0, 0, 0, 0, 0,\n",
       "       0, 0, 0, 0, 0, 0, 0, 0, 0, 0, 2, 0, 0, 0, 0, 0, 0, 0, 0, 0, 0, 0,\n",
       "       1, 0, 0, 0, 0, 0, 0, 0, 0, 0, 0, 0, 0, 0, 0, 0, 0, 2, 0, 0, 0, 0,\n",
       "       0, 0, 0, 2, 2, 2, 2, 2, 2, 2, 2, 2, 2, 2, 2, 2, 2, 2, 2, 2, 2, 2,\n",
       "       2, 2, 2, 2, 2, 2, 2, 2, 2, 2, 2, 2, 2, 2, 2, 2, 2, 2])"
      ]
     },
     "execution_count": 33,
     "metadata": {},
     "output_type": "execute_result"
    }
   ],
   "source": [
    "wine_kmeans=KMeans(n_clusters=3).fit(wine_pca)\n",
    "wine_kmeans.labels_"
   ]
  },
  {
   "cell_type": "markdown",
   "id": "b343b938",
   "metadata": {},
   "source": [
    "#### Calculating 'Silhouette' score"
   ]
  },
  {
   "cell_type": "code",
   "execution_count": 34,
   "id": "ece8a840",
   "metadata": {},
   "outputs": [
    {
     "data": {
      "text/plain": [
       "0.4956"
      ]
     },
     "execution_count": 34,
     "metadata": {},
     "output_type": "execute_result"
    }
   ],
   "source": [
    "import sklearn\n",
    "round(sklearn.metrics.silhouette_score(wine_pca, wine_kmeans.labels_),4)"
   ]
  },
  {
   "cell_type": "markdown",
   "id": "88596755",
   "metadata": {},
   "source": [
    "#### Adding cluster column"
   ]
  },
  {
   "cell_type": "code",
   "execution_count": 35,
   "id": "54b8b36a",
   "metadata": {},
   "outputs": [],
   "source": [
    "wine_pca['ClusterID_kmeans']=wine_kmeans.labels_"
   ]
  },
  {
   "cell_type": "code",
   "execution_count": 36,
   "id": "dd8d9171",
   "metadata": {},
   "outputs": [
    {
     "data": {
      "text/html": [
       "<div>\n",
       "<style scoped>\n",
       "    .dataframe tbody tr th:only-of-type {\n",
       "        vertical-align: middle;\n",
       "    }\n",
       "\n",
       "    .dataframe tbody tr th {\n",
       "        vertical-align: top;\n",
       "    }\n",
       "\n",
       "    .dataframe thead th {\n",
       "        text-align: right;\n",
       "    }\n",
       "</style>\n",
       "<table border=\"1\" class=\"dataframe\">\n",
       "  <thead>\n",
       "    <tr style=\"text-align: right;\">\n",
       "      <th></th>\n",
       "      <th>PC1</th>\n",
       "      <th>PC2</th>\n",
       "      <th>PC3</th>\n",
       "      <th>ClusterID_kmeans</th>\n",
       "    </tr>\n",
       "  </thead>\n",
       "  <tbody>\n",
       "    <tr>\n",
       "      <th>0</th>\n",
       "      <td>0.790538</td>\n",
       "      <td>-0.277535</td>\n",
       "      <td>-0.007065</td>\n",
       "      <td>1</td>\n",
       "    </tr>\n",
       "    <tr>\n",
       "      <th>1</th>\n",
       "      <td>0.506387</td>\n",
       "      <td>0.082910</td>\n",
       "      <td>-0.424192</td>\n",
       "      <td>1</td>\n",
       "    </tr>\n",
       "    <tr>\n",
       "      <th>2</th>\n",
       "      <td>0.601921</td>\n",
       "      <td>-0.176527</td>\n",
       "      <td>0.286398</td>\n",
       "      <td>1</td>\n",
       "    </tr>\n",
       "    <tr>\n",
       "      <th>3</th>\n",
       "      <td>0.912068</td>\n",
       "      <td>-0.576468</td>\n",
       "      <td>0.007376</td>\n",
       "      <td>1</td>\n",
       "    </tr>\n",
       "    <tr>\n",
       "      <th>4</th>\n",
       "      <td>0.239121</td>\n",
       "      <td>-0.163202</td>\n",
       "      <td>0.536644</td>\n",
       "      <td>1</td>\n",
       "    </tr>\n",
       "  </tbody>\n",
       "</table>\n",
       "</div>"
      ],
      "text/plain": [
       "        PC1       PC2       PC3  ClusterID_kmeans\n",
       "0  0.790538 -0.277535 -0.007065                 1\n",
       "1  0.506387  0.082910 -0.424192                 1\n",
       "2  0.601921 -0.176527  0.286398                 1\n",
       "3  0.912068 -0.576468  0.007376                 1\n",
       "4  0.239121 -0.163202  0.536644                 1"
      ]
     },
     "execution_count": 36,
     "metadata": {},
     "output_type": "execute_result"
    }
   ],
   "source": [
    "wine_pca.head()"
   ]
  },
  {
   "cell_type": "markdown",
   "id": "54052a0a",
   "metadata": {},
   "source": [
    "#### Grouping cluster"
   ]
  },
  {
   "cell_type": "code",
   "execution_count": 37,
   "id": "ac11a70f",
   "metadata": {},
   "outputs": [
    {
     "data": {
      "text/html": [
       "<div>\n",
       "<style scoped>\n",
       "    .dataframe tbody tr th:only-of-type {\n",
       "        vertical-align: middle;\n",
       "    }\n",
       "\n",
       "    .dataframe tbody tr th {\n",
       "        vertical-align: top;\n",
       "    }\n",
       "\n",
       "    .dataframe thead th {\n",
       "        text-align: right;\n",
       "    }\n",
       "</style>\n",
       "<table border=\"1\" class=\"dataframe\">\n",
       "  <thead>\n",
       "    <tr style=\"text-align: right;\">\n",
       "      <th></th>\n",
       "      <th>PC1</th>\n",
       "      <th>PC2</th>\n",
       "      <th>PC3</th>\n",
       "    </tr>\n",
       "    <tr>\n",
       "      <th>ClusterID_kmeans</th>\n",
       "      <th></th>\n",
       "      <th></th>\n",
       "      <th></th>\n",
       "    </tr>\n",
       "  </thead>\n",
       "  <tbody>\n",
       "    <tr>\n",
       "      <th>0</th>\n",
       "      <td>-0.084917</td>\n",
       "      <td>0.439228</td>\n",
       "      <td>0.041745</td>\n",
       "    </tr>\n",
       "    <tr>\n",
       "      <th>1</th>\n",
       "      <td>0.548017</td>\n",
       "      <td>-0.178461</td>\n",
       "      <td>-0.013974</td>\n",
       "    </tr>\n",
       "    <tr>\n",
       "      <th>2</th>\n",
       "      <td>-0.700056</td>\n",
       "      <td>-0.296786</td>\n",
       "      <td>-0.032613</td>\n",
       "    </tr>\n",
       "  </tbody>\n",
       "</table>\n",
       "</div>"
      ],
      "text/plain": [
       "                       PC1       PC2       PC3\n",
       "ClusterID_kmeans                              \n",
       "0                -0.084917  0.439228  0.041745\n",
       "1                 0.548017 -0.178461 -0.013974\n",
       "2                -0.700056 -0.296786 -0.032613"
      ]
     },
     "execution_count": 37,
     "metadata": {},
     "output_type": "execute_result"
    }
   ],
   "source": [
    "wine_pca.groupby('ClusterID_kmeans').mean()"
   ]
  },
  {
   "cell_type": "markdown",
   "id": "4dc99609",
   "metadata": {},
   "source": [
    "## Kmeans without PCA "
   ]
  },
  {
   "cell_type": "code",
   "execution_count": 38,
   "id": "5951103b",
   "metadata": {
    "scrolled": true
   },
   "outputs": [
    {
     "data": {
      "text/html": [
       "<div>\n",
       "<style scoped>\n",
       "    .dataframe tbody tr th:only-of-type {\n",
       "        vertical-align: middle;\n",
       "    }\n",
       "\n",
       "    .dataframe tbody tr th {\n",
       "        vertical-align: top;\n",
       "    }\n",
       "\n",
       "    .dataframe thead th {\n",
       "        text-align: right;\n",
       "    }\n",
       "</style>\n",
       "<table border=\"1\" class=\"dataframe\">\n",
       "  <thead>\n",
       "    <tr style=\"text-align: right;\">\n",
       "      <th></th>\n",
       "      <th>Alcohol</th>\n",
       "      <th>Malic</th>\n",
       "      <th>Ash</th>\n",
       "      <th>Alcalinity</th>\n",
       "      <th>Magnesium</th>\n",
       "      <th>Phenols</th>\n",
       "      <th>Flavanoids</th>\n",
       "      <th>Nonflavanoids</th>\n",
       "      <th>Proanthocyanins</th>\n",
       "      <th>Color</th>\n",
       "      <th>Hue</th>\n",
       "      <th>Dilution</th>\n",
       "      <th>Proline</th>\n",
       "    </tr>\n",
       "  </thead>\n",
       "  <tbody>\n",
       "    <tr>\n",
       "      <th>0</th>\n",
       "      <td>0.824561</td>\n",
       "      <td>0.230404</td>\n",
       "      <td>0.528846</td>\n",
       "      <td>0.318841</td>\n",
       "      <td>0.919355</td>\n",
       "      <td>0.611511</td>\n",
       "      <td>0.748555</td>\n",
       "      <td>0.283019</td>\n",
       "      <td>0.737255</td>\n",
       "      <td>0.485523</td>\n",
       "      <td>0.549451</td>\n",
       "      <td>0.970696</td>\n",
       "      <td>0.561341</td>\n",
       "    </tr>\n",
       "    <tr>\n",
       "      <th>1</th>\n",
       "      <td>0.523392</td>\n",
       "      <td>0.247031</td>\n",
       "      <td>0.250000</td>\n",
       "      <td>0.000000</td>\n",
       "      <td>0.483871</td>\n",
       "      <td>0.557554</td>\n",
       "      <td>0.661850</td>\n",
       "      <td>0.245283</td>\n",
       "      <td>0.341176</td>\n",
       "      <td>0.345212</td>\n",
       "      <td>0.560440</td>\n",
       "      <td>0.780220</td>\n",
       "      <td>0.550642</td>\n",
       "    </tr>\n",
       "    <tr>\n",
       "      <th>2</th>\n",
       "      <td>0.511696</td>\n",
       "      <td>0.384798</td>\n",
       "      <td>0.759615</td>\n",
       "      <td>0.536232</td>\n",
       "      <td>0.500000</td>\n",
       "      <td>0.611511</td>\n",
       "      <td>0.800578</td>\n",
       "      <td>0.320755</td>\n",
       "      <td>0.941176</td>\n",
       "      <td>0.489978</td>\n",
       "      <td>0.538462</td>\n",
       "      <td>0.695971</td>\n",
       "      <td>0.646933</td>\n",
       "    </tr>\n",
       "    <tr>\n",
       "      <th>3</th>\n",
       "      <td>0.865497</td>\n",
       "      <td>0.287411</td>\n",
       "      <td>0.596154</td>\n",
       "      <td>0.405797</td>\n",
       "      <td>0.693548</td>\n",
       "      <td>0.989209</td>\n",
       "      <td>0.872832</td>\n",
       "      <td>0.207547</td>\n",
       "      <td>0.694118</td>\n",
       "      <td>0.726058</td>\n",
       "      <td>0.351648</td>\n",
       "      <td>0.798535</td>\n",
       "      <td>0.857347</td>\n",
       "    </tr>\n",
       "    <tr>\n",
       "      <th>4</th>\n",
       "      <td>0.535088</td>\n",
       "      <td>0.439430</td>\n",
       "      <td>0.951923</td>\n",
       "      <td>0.710145</td>\n",
       "      <td>0.774194</td>\n",
       "      <td>0.611511</td>\n",
       "      <td>0.641618</td>\n",
       "      <td>0.490566</td>\n",
       "      <td>0.552941</td>\n",
       "      <td>0.338530</td>\n",
       "      <td>0.549451</td>\n",
       "      <td>0.608059</td>\n",
       "      <td>0.325963</td>\n",
       "    </tr>\n",
       "  </tbody>\n",
       "</table>\n",
       "</div>"
      ],
      "text/plain": [
       "    Alcohol     Malic       Ash  Alcalinity  Magnesium   Phenols  Flavanoids  \\\n",
       "0  0.824561  0.230404  0.528846    0.318841   0.919355  0.611511    0.748555   \n",
       "1  0.523392  0.247031  0.250000    0.000000   0.483871  0.557554    0.661850   \n",
       "2  0.511696  0.384798  0.759615    0.536232   0.500000  0.611511    0.800578   \n",
       "3  0.865497  0.287411  0.596154    0.405797   0.693548  0.989209    0.872832   \n",
       "4  0.535088  0.439430  0.951923    0.710145   0.774194  0.611511    0.641618   \n",
       "\n",
       "   Nonflavanoids  Proanthocyanins     Color       Hue  Dilution   Proline  \n",
       "0       0.283019         0.737255  0.485523  0.549451  0.970696  0.561341  \n",
       "1       0.245283         0.341176  0.345212  0.560440  0.780220  0.550642  \n",
       "2       0.320755         0.941176  0.489978  0.538462  0.695971  0.646933  \n",
       "3       0.207547         0.694118  0.726058  0.351648  0.798535  0.857347  \n",
       "4       0.490566         0.552941  0.338530  0.549451  0.608059  0.325963  "
      ]
     },
     "execution_count": 38,
     "metadata": {},
     "output_type": "execute_result"
    }
   ],
   "source": [
    "wine_std.drop(wine_std.columns[-1], axis=1, inplace=True)\n",
    "wine_std.head()"
   ]
  },
  {
   "cell_type": "markdown",
   "id": "8ca4f851",
   "metadata": {},
   "source": [
    "#### 'Elbow' Curve"
   ]
  },
  {
   "cell_type": "code",
   "execution_count": 39,
   "id": "5c8392ed",
   "metadata": {},
   "outputs": [
    {
     "data": {
      "image/png": "[encoded data removed]",
      "text/plain": [
       "<Figure size 720x576 with 1 Axes>"
      ]
     },
     "metadata": {
      "needs_background": "light"
     },
     "output_type": "display_data"
    }
   ],
   "source": [
    "plt.figure(figsize=[10,8])\n",
    "\n",
    "wcss=[]\n",
    "for i in range(1,11):\n",
    "    kmeans=KMeans(n_clusters=i, init='k-means++')\n",
    "    kmeans.fit(wine_std)\n",
    "    wcss.append(kmeans.inertia_)\n",
    "    \n",
    "plt.plot(range(1,11), wcss)\n",
    "plt.title('Elbow Method')\n",
    "plt.xlabel('K value')\n",
    "plt.ylabel('WCSS')\n",
    "plt.show()"
   ]
  },
  {
   "cell_type": "markdown",
   "id": "86aa85a3",
   "metadata": {},
   "source": [
    "* From above elbow method curve, we will select K value '3'"
   ]
  },
  {
   "cell_type": "code",
   "execution_count": 40,
   "id": "6e4abb4a",
   "metadata": {},
   "outputs": [
    {
     "data": {
      "text/plain": [
       "array([1, 1, 1, 1, 1, 1, 1, 1, 1, 1, 1, 1, 1, 1, 1, 1, 1, 1, 1, 1, 1, 1,\n",
       "       1, 1, 1, 1, 1, 1, 1, 1, 1, 1, 1, 1, 1, 1, 1, 1, 1, 1, 1, 1, 1, 1,\n",
       "       1, 1, 1, 1, 1, 1, 1, 1, 1, 1, 1, 1, 1, 1, 0, 2, 0, 0, 0, 0, 0, 0,\n",
       "       0, 0, 0, 0, 0, 0, 0, 0, 0, 0, 2, 0, 0, 0, 0, 0, 0, 0, 0, 0, 0, 0,\n",
       "       0, 0, 0, 0, 0, 0, 0, 0, 0, 0, 0, 0, 0, 0, 0, 0, 0, 2, 0, 0, 0, 0,\n",
       "       0, 0, 0, 2, 2, 2, 2, 2, 2, 2, 2, 2, 2, 2, 2, 2, 2, 2, 2, 2, 2, 2,\n",
       "       2, 2, 2, 2, 2, 2, 2, 2, 2, 2, 2, 2, 2, 2, 2, 2, 2, 2])"
      ]
     },
     "execution_count": 40,
     "metadata": {},
     "output_type": "execute_result"
    }
   ],
   "source": [
    "wine_kmeans1=KMeans(n_clusters=3).fit(wine_std)\n",
    "wine_kmeans1.labels_"
   ]
  },
  {
   "cell_type": "markdown",
   "id": "797ad803",
   "metadata": {},
   "source": [
    "#### Calculating 'Silhouette' score"
   ]
  },
  {
   "cell_type": "code",
   "execution_count": 41,
   "id": "09ab12b8",
   "metadata": {},
   "outputs": [
    {
     "data": {
      "text/plain": [
       "0.3159"
      ]
     },
     "execution_count": 41,
     "metadata": {},
     "output_type": "execute_result"
    }
   ],
   "source": [
    "round(sklearn.metrics.silhouette_score(wine_std, wine_kmeans1.labels_),4)"
   ]
  },
  {
   "cell_type": "markdown",
   "id": "f65a43ec",
   "metadata": {},
   "source": [
    "#### Adding cluster column in the data"
   ]
  },
  {
   "cell_type": "code",
   "execution_count": 42,
   "id": "f9d40fed",
   "metadata": {
    "scrolled": true
   },
   "outputs": [
    {
     "data": {
      "text/html": [
       "<div>\n",
       "<style scoped>\n",
       "    .dataframe tbody tr th:only-of-type {\n",
       "        vertical-align: middle;\n",
       "    }\n",
       "\n",
       "    .dataframe tbody tr th {\n",
       "        vertical-align: top;\n",
       "    }\n",
       "\n",
       "    .dataframe thead th {\n",
       "        text-align: right;\n",
       "    }\n",
       "</style>\n",
       "<table border=\"1\" class=\"dataframe\">\n",
       "  <thead>\n",
       "    <tr style=\"text-align: right;\">\n",
       "      <th></th>\n",
       "      <th>Alcohol</th>\n",
       "      <th>Malic</th>\n",
       "      <th>Ash</th>\n",
       "      <th>Alcalinity</th>\n",
       "      <th>Magnesium</th>\n",
       "      <th>Phenols</th>\n",
       "      <th>Flavanoids</th>\n",
       "      <th>Nonflavanoids</th>\n",
       "      <th>Proanthocyanins</th>\n",
       "      <th>Color</th>\n",
       "      <th>Hue</th>\n",
       "      <th>Dilution</th>\n",
       "      <th>Proline</th>\n",
       "      <th>ClusterID</th>\n",
       "    </tr>\n",
       "  </thead>\n",
       "  <tbody>\n",
       "    <tr>\n",
       "      <th>0</th>\n",
       "      <td>0.824561</td>\n",
       "      <td>0.230404</td>\n",
       "      <td>0.528846</td>\n",
       "      <td>0.318841</td>\n",
       "      <td>0.919355</td>\n",
       "      <td>0.611511</td>\n",
       "      <td>0.748555</td>\n",
       "      <td>0.283019</td>\n",
       "      <td>0.737255</td>\n",
       "      <td>0.485523</td>\n",
       "      <td>0.549451</td>\n",
       "      <td>0.970696</td>\n",
       "      <td>0.561341</td>\n",
       "      <td>1</td>\n",
       "    </tr>\n",
       "    <tr>\n",
       "      <th>1</th>\n",
       "      <td>0.523392</td>\n",
       "      <td>0.247031</td>\n",
       "      <td>0.250000</td>\n",
       "      <td>0.000000</td>\n",
       "      <td>0.483871</td>\n",
       "      <td>0.557554</td>\n",
       "      <td>0.661850</td>\n",
       "      <td>0.245283</td>\n",
       "      <td>0.341176</td>\n",
       "      <td>0.345212</td>\n",
       "      <td>0.560440</td>\n",
       "      <td>0.780220</td>\n",
       "      <td>0.550642</td>\n",
       "      <td>1</td>\n",
       "    </tr>\n",
       "    <tr>\n",
       "      <th>2</th>\n",
       "      <td>0.511696</td>\n",
       "      <td>0.384798</td>\n",
       "      <td>0.759615</td>\n",
       "      <td>0.536232</td>\n",
       "      <td>0.500000</td>\n",
       "      <td>0.611511</td>\n",
       "      <td>0.800578</td>\n",
       "      <td>0.320755</td>\n",
       "      <td>0.941176</td>\n",
       "      <td>0.489978</td>\n",
       "      <td>0.538462</td>\n",
       "      <td>0.695971</td>\n",
       "      <td>0.646933</td>\n",
       "      <td>1</td>\n",
       "    </tr>\n",
       "    <tr>\n",
       "      <th>3</th>\n",
       "      <td>0.865497</td>\n",
       "      <td>0.287411</td>\n",
       "      <td>0.596154</td>\n",
       "      <td>0.405797</td>\n",
       "      <td>0.693548</td>\n",
       "      <td>0.989209</td>\n",
       "      <td>0.872832</td>\n",
       "      <td>0.207547</td>\n",
       "      <td>0.694118</td>\n",
       "      <td>0.726058</td>\n",
       "      <td>0.351648</td>\n",
       "      <td>0.798535</td>\n",
       "      <td>0.857347</td>\n",
       "      <td>1</td>\n",
       "    </tr>\n",
       "    <tr>\n",
       "      <th>4</th>\n",
       "      <td>0.535088</td>\n",
       "      <td>0.439430</td>\n",
       "      <td>0.951923</td>\n",
       "      <td>0.710145</td>\n",
       "      <td>0.774194</td>\n",
       "      <td>0.611511</td>\n",
       "      <td>0.641618</td>\n",
       "      <td>0.490566</td>\n",
       "      <td>0.552941</td>\n",
       "      <td>0.338530</td>\n",
       "      <td>0.549451</td>\n",
       "      <td>0.608059</td>\n",
       "      <td>0.325963</td>\n",
       "      <td>1</td>\n",
       "    </tr>\n",
       "  </tbody>\n",
       "</table>\n",
       "</div>"
      ],
      "text/plain": [
       "    Alcohol     Malic       Ash  Alcalinity  Magnesium   Phenols  Flavanoids  \\\n",
       "0  0.824561  0.230404  0.528846    0.318841   0.919355  0.611511    0.748555   \n",
       "1  0.523392  0.247031  0.250000    0.000000   0.483871  0.557554    0.661850   \n",
       "2  0.511696  0.384798  0.759615    0.536232   0.500000  0.611511    0.800578   \n",
       "3  0.865497  0.287411  0.596154    0.405797   0.693548  0.989209    0.872832   \n",
       "4  0.535088  0.439430  0.951923    0.710145   0.774194  0.611511    0.641618   \n",
       "\n",
       "   Nonflavanoids  Proanthocyanins     Color       Hue  Dilution   Proline  \\\n",
       "0       0.283019         0.737255  0.485523  0.549451  0.970696  0.561341   \n",
       "1       0.245283         0.341176  0.345212  0.560440  0.780220  0.550642   \n",
       "2       0.320755         0.941176  0.489978  0.538462  0.695971  0.646933   \n",
       "3       0.207547         0.694118  0.726058  0.351648  0.798535  0.857347   \n",
       "4       0.490566         0.552941  0.338530  0.549451  0.608059  0.325963   \n",
       "\n",
       "   ClusterID  \n",
       "0          1  \n",
       "1          1  \n",
       "2          1  \n",
       "3          1  \n",
       "4          1  "
      ]
     },
     "execution_count": 42,
     "metadata": {},
     "output_type": "execute_result"
    }
   ],
   "source": [
    "wine_std['ClusterID']=wine_kmeans1.labels_\n",
    "wine_std.head()"
   ]
  },
  {
   "cell_type": "markdown",
   "id": "5a6fb247",
   "metadata": {},
   "source": [
    "#### Grouping Clusters"
   ]
  },
  {
   "cell_type": "code",
   "execution_count": 43,
   "id": "4361d757",
   "metadata": {
    "scrolled": true
   },
   "outputs": [
    {
     "data": {
      "text/html": [
       "<div>\n",
       "<style scoped>\n",
       "    .dataframe tbody tr th:only-of-type {\n",
       "        vertical-align: middle;\n",
       "    }\n",
       "\n",
       "    .dataframe tbody tr th {\n",
       "        vertical-align: top;\n",
       "    }\n",
       "\n",
       "    .dataframe thead th {\n",
       "        text-align: right;\n",
       "    }\n",
       "</style>\n",
       "<table border=\"1\" class=\"dataframe\">\n",
       "  <thead>\n",
       "    <tr style=\"text-align: right;\">\n",
       "      <th></th>\n",
       "      <th>Alcohol</th>\n",
       "      <th>Malic</th>\n",
       "      <th>Ash</th>\n",
       "      <th>Alcalinity</th>\n",
       "      <th>Magnesium</th>\n",
       "      <th>Phenols</th>\n",
       "      <th>Flavanoids</th>\n",
       "      <th>Nonflavanoids</th>\n",
       "      <th>Proanthocyanins</th>\n",
       "      <th>Color</th>\n",
       "      <th>Hue</th>\n",
       "      <th>Dilution</th>\n",
       "      <th>Proline</th>\n",
       "    </tr>\n",
       "    <tr>\n",
       "      <th>ClusterID</th>\n",
       "      <th></th>\n",
       "      <th></th>\n",
       "      <th></th>\n",
       "      <th></th>\n",
       "      <th></th>\n",
       "      <th></th>\n",
       "      <th></th>\n",
       "      <th></th>\n",
       "      <th></th>\n",
       "      <th></th>\n",
       "      <th></th>\n",
       "      <th></th>\n",
       "      <th></th>\n",
       "    </tr>\n",
       "  </thead>\n",
       "  <tbody>\n",
       "    <tr>\n",
       "      <th>0</th>\n",
       "      <td>0.251068</td>\n",
       "      <td>0.257354</td>\n",
       "      <td>0.371302</td>\n",
       "      <td>0.649387</td>\n",
       "      <td>0.328164</td>\n",
       "      <td>0.414361</td>\n",
       "      <td>0.463317</td>\n",
       "      <td>0.448113</td>\n",
       "      <td>0.448416</td>\n",
       "      <td>0.187832</td>\n",
       "      <td>0.562891</td>\n",
       "      <td>0.567413</td>\n",
       "      <td>0.161116</td>\n",
       "    </tr>\n",
       "    <tr>\n",
       "      <th>1</th>\n",
       "      <td>0.686177</td>\n",
       "      <td>0.301663</td>\n",
       "      <td>0.540782</td>\n",
       "      <td>0.413043</td>\n",
       "      <td>0.581201</td>\n",
       "      <td>0.627264</td>\n",
       "      <td>0.727626</td>\n",
       "      <td>0.296031</td>\n",
       "      <td>0.583908</td>\n",
       "      <td>0.476826</td>\n",
       "      <td>0.572376</td>\n",
       "      <td>0.691234</td>\n",
       "      <td>0.601026</td>\n",
       "    </tr>\n",
       "    <tr>\n",
       "      <th>2</th>\n",
       "      <td>0.491959</td>\n",
       "      <td>0.592221</td>\n",
       "      <td>0.489663</td>\n",
       "      <td>0.696196</td>\n",
       "      <td>0.462500</td>\n",
       "      <td>0.190737</td>\n",
       "      <td>0.096821</td>\n",
       "      <td>0.588208</td>\n",
       "      <td>0.248725</td>\n",
       "      <td>0.615033</td>\n",
       "      <td>0.185165</td>\n",
       "      <td>0.166209</td>\n",
       "      <td>0.242903</td>\n",
       "    </tr>\n",
       "  </tbody>\n",
       "</table>\n",
       "</div>"
      ],
      "text/plain": [
       "            Alcohol     Malic       Ash  Alcalinity  Magnesium   Phenols  \\\n",
       "ClusterID                                                                  \n",
       "0          0.251068  0.257354  0.371302    0.649387   0.328164  0.414361   \n",
       "1          0.686177  0.301663  0.540782    0.413043   0.581201  0.627264   \n",
       "2          0.491959  0.592221  0.489663    0.696196   0.462500  0.190737   \n",
       "\n",
       "           Flavanoids  Nonflavanoids  Proanthocyanins     Color       Hue  \\\n",
       "ClusterID                                                                   \n",
       "0            0.463317       0.448113         0.448416  0.187832  0.562891   \n",
       "1            0.727626       0.296031         0.583908  0.476826  0.572376   \n",
       "2            0.096821       0.588208         0.248725  0.615033  0.185165   \n",
       "\n",
       "           Dilution   Proline  \n",
       "ClusterID                      \n",
       "0          0.567413  0.161116  \n",
       "1          0.691234  0.601026  \n",
       "2          0.166209  0.242903  "
      ]
     },
     "execution_count": 43,
     "metadata": {},
     "output_type": "execute_result"
    }
   ],
   "source": [
    "wine_std.groupby('ClusterID').mean()"
   ]
  },
  {
   "cell_type": "markdown",
   "id": "bd60aa8f",
   "metadata": {},
   "source": [
    "### Observation :\n",
    "* Silhouette score (KMeans Clustering) :\n",
    "    \n",
    "    1. With PCA    :- 0.4956\n",
    "    \n",
    "    2. Without PCA :- 0.3159\n",
    "    \n",
    "* From this, we can say that KMeans clustering model done with the help of PCA is better than without PCA."
   ]
  },
  {
   "cell_type": "markdown",
   "id": "a755c5ed",
   "metadata": {},
   "source": [
    "## Conclusion :\n",
    "\n",
    "* From this we can conclude that dimension reduction technique with the help of PCA is more useful for performing machine learnings to achieve better predictions in the production."
   ]
  }
 ],
 "metadata": {
  "kernelspec": {
   "display_name": "Python 3",
   "language": "python",
   "name": "python3"
  },
  "language_info": {
   "codemirror_mode": {
    "name": "ipython",
    "version": 3
   },
   "file_extension": ".py",
   "mimetype": "text/x-python",
   "name": "python",
   "nbconvert_exporter": "python",
   "pygments_lexer": "ipython3",
   "version": "3.8.8"
  }
 },
 "nbformat": 4,
 "nbformat_minor": 5
}
